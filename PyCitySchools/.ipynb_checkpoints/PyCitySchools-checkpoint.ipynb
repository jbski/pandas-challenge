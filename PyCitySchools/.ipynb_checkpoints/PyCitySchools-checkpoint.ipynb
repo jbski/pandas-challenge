{
 "cells": [
  {
   "cell_type": "code",
   "execution_count": 1,
   "metadata": {},
   "outputs": [],
   "source": [
    "import pandas as pd"
   ]
  },
  {
   "cell_type": "code",
   "execution_count": 2,
   "metadata": {},
   "outputs": [],
   "source": [
    "# Load files\n",
    "school_data = \"Resources/schools_complete.csv\"\n",
    "student_data = \"Resources/students_complete.csv\""
   ]
  },
  {
   "cell_type": "code",
   "execution_count": 3,
   "metadata": {},
   "outputs": [],
   "source": [
    "#Load data into a dataframe\n",
    "school_df = pd.read_csv(school_data)\n",
    "student_df = pd.read_csv(student_data)"
   ]
  },
  {
   "cell_type": "code",
   "execution_count": 4,
   "metadata": {},
   "outputs": [],
   "source": [
    "# Combine school and data dataframes into a single dataframe\n",
    "school_complete_df = pd.merge(student_df, school_df, how = \"left\", on = [\"school_name\", \"school_name\"])"
   ]
  },
  {
   "cell_type": "code",
   "execution_count": 5,
   "metadata": {},
   "outputs": [],
   "source": [
    "def convert_boolean_to_numeric(bool_value):\n",
    "    if bool_value == True:\n",
    "        return 1\n",
    "    else:\n",
    "        return 0    "
   ]
  },
  {
   "cell_type": "code",
   "execution_count": 6,
   "metadata": {},
   "outputs": [],
   "source": [
    "pass_reading_flag = school_complete_df[\"reading_score\"] >= 70"
   ]
  },
  {
   "cell_type": "code",
   "execution_count": 7,
   "metadata": {},
   "outputs": [],
   "source": [
    "# Create a reading flag data frame to append to the school_complete_df\n",
    "reading_pass_flag_df = pd.DataFrame(pass_reading_flag)"
   ]
  },
  {
   "cell_type": "code",
   "execution_count": 8,
   "metadata": {},
   "outputs": [],
   "source": [
    "reading_pass_flag_df.rename(mapper = {\"reading_score\" : \"reading_pass_flag\"}, axis = \"columns\", inplace = True)"
   ]
  },
  {
   "cell_type": "code",
   "execution_count": 9,
   "metadata": {},
   "outputs": [],
   "source": [
    "pass_math_flag = school_complete_df[\"math_score\"] >= 70"
   ]
  },
  {
   "cell_type": "code",
   "execution_count": 10,
   "metadata": {},
   "outputs": [],
   "source": [
    "# Create a reading flag data frame to append to the school_complete_df\n",
    "math_flag_df = pd.DataFrame(pass_math_flag)"
   ]
  },
  {
   "cell_type": "code",
   "execution_count": 11,
   "metadata": {},
   "outputs": [],
   "source": [
    "# Rename column header\n",
    "math_flag_df.rename(mapper = {\"math_score\" : \"math_pass_flag\"}, axis = \"columns\", inplace = True)"
   ]
  },
  {
   "cell_type": "code",
   "execution_count": 12,
   "metadata": {},
   "outputs": [],
   "source": [
    "# Create a series for teh overall passing flag\n",
    "pass_overall = (pass_reading_flag & pass_math_flag)"
   ]
  },
  {
   "cell_type": "code",
   "execution_count": 13,
   "metadata": {},
   "outputs": [],
   "source": [
    "# Create a pass overall dataframe \n",
    "pass_overall_df = pd.DataFrame(pass_overall, columns=[\"pass_overall_flag\"])"
   ]
  },
  {
   "cell_type": "code",
   "execution_count": 14,
   "metadata": {},
   "outputs": [],
   "source": [
    "# Create a dataframe that joins the reading dataframes\n",
    "new_complete_school_df = school_complete_df.join(reading_pass_flag_df)"
   ]
  },
  {
   "cell_type": "code",
   "execution_count": 15,
   "metadata": {},
   "outputs": [],
   "source": [
    "# Create a dataframe that joins the math dataframes\n",
    "flagged_complete_school_df = new_complete_school_df.join(math_flag_df)"
   ]
  },
  {
   "cell_type": "code",
   "execution_count": 16,
   "metadata": {},
   "outputs": [],
   "source": [
    "# Create a dataframe that joins the overall passing dataframes\n",
    "flagged_complete_school_df = flagged_complete_school_df.join(pass_overall_df)"
   ]
  },
  {
   "cell_type": "code",
   "execution_count": 17,
   "metadata": {},
   "outputs": [],
   "source": [
    "# Create a grouping based on the school name\n",
    "schools = flagged_complete_school_df.groupby(\"school_name\")"
   ]
  },
  {
   "cell_type": "code",
   "execution_count": 18,
   "metadata": {},
   "outputs": [],
   "source": [
    "# Convert the boolen flags to numeric values in the reading pass data for later calculations\n",
    "flagged_complete_school_df[\"reading_pass_flag\"] = flagged_complete_school_df[\"reading_pass_flag\"].apply(convert_boolean_to_numeric)"
   ]
  },
  {
   "cell_type": "code",
   "execution_count": 19,
   "metadata": {},
   "outputs": [],
   "source": [
    "# Convert the boolen flags to numeric values in the math pass data for later calculations\n",
    "flagged_complete_school_df[\"math_pass_flag\"] = flagged_complete_school_df[\"math_pass_flag\"].apply(convert_boolean_to_numeric)\n"
   ]
  },
  {
   "cell_type": "code",
   "execution_count": 20,
   "metadata": {},
   "outputs": [],
   "source": [
    "# Convert the boolen flags to numeric values in the overall pass data for later calculations\n",
    "flagged_complete_school_df[\"pass_overall_flag\"] = flagged_complete_school_df[\"pass_overall_flag\"].apply(convert_boolean_to_numeric)\n"
   ]
  },
  {
   "cell_type": "code",
   "execution_count": 21,
   "metadata": {},
   "outputs": [],
   "source": [
    "# Calculate the total number of schools\n",
    "total_schools = len(schools)"
   ]
  },
  {
   "cell_type": "code",
   "execution_count": 22,
   "metadata": {},
   "outputs": [],
   "source": [
    "# Calculate the total budget\n",
    "budget_df = schools.first()\n",
    "total_budget = budget_df[\"budget\"].sum()"
   ]
  },
  {
   "cell_type": "code",
   "execution_count": 23,
   "metadata": {},
   "outputs": [],
   "source": [
    "# Calculat the total number of students\n",
    "total_students = school_complete_df[\"Student ID\"].count()\n",
    "\n",
    "# Calculate the average reading score\n",
    "avg_reading_score = school_complete_df[\"reading_score\"].mean()\n",
    "\n",
    "# Calculate the average math score\n",
    "avg_math_score = school_complete_df[\"math_score\"].mean()\n",
    "\n",
    "# Calculate the % of students that have a passing reading score\n",
    "read_filter = school_complete_df[\"reading_score\"] >= 70\n",
    "num_passed_reading = len(school_complete_df[read_filter])\n",
    "percent_passing_reading = num_passed_reading / total_students\n",
    "\n",
    "# Calculate the % of students that have a passing math score\n",
    "math_filter = school_complete_df[\"math_score\"] >= 70\n",
    "num_passed_math = len(school_complete_df[math_filter])\n",
    "percent_passing_math = num_passed_math / total_students\n",
    "\n",
    "# Calculate the % of students that have a passing math and reading score\n",
    "overall_filter = len(school_complete_df[read_filter & math_filter])\n",
    "percent_passing_overall = overall_filter / total_students\n"
   ]
  },
  {
   "cell_type": "markdown",
   "metadata": {},
   "source": [
    "## District Summary\n",
    "\n",
    "* Calculate the total number of schools\n",
    "\n",
    "* Calculate the total number of students\n",
    "\n",
    "* Calculate the total budget\n",
    "\n",
    "* Calculate the average math score \n",
    "\n",
    "* Calculate the average reading score\n",
    "\n",
    "* Calculate the percentage of students with a passing math score (70 or greater)\n",
    "\n",
    "* Calculate the percentage of students with a passing reading score (70 or greater)\n",
    "\n",
    "* Calculate the percentage of students who passed math **and** reading (% Overall Passing)\n",
    "\n",
    "* Create a dataframe to hold the above results\n",
    "\n",
    "* Optional: give the displayed data cleaner formatting"
   ]
  },
  {
   "cell_type": "code",
   "execution_count": 24,
   "metadata": {},
   "outputs": [
    {
     "data": {
      "text/html": [
       "<div>\n",
       "<style scoped>\n",
       "    .dataframe tbody tr th:only-of-type {\n",
       "        vertical-align: middle;\n",
       "    }\n",
       "\n",
       "    .dataframe tbody tr th {\n",
       "        vertical-align: top;\n",
       "    }\n",
       "\n",
       "    .dataframe thead th {\n",
       "        text-align: right;\n",
       "    }\n",
       "</style>\n",
       "<table border=\"1\" class=\"dataframe\">\n",
       "  <thead>\n",
       "    <tr style=\"text-align: right;\">\n",
       "      <th></th>\n",
       "      <th>Total Schools</th>\n",
       "      <th>Total Students</th>\n",
       "      <th>Total Budget</th>\n",
       "      <th>Avg Math Score</th>\n",
       "      <th>Avg Reading Score</th>\n",
       "      <th>% Passing Math</th>\n",
       "      <th>% Passing Reading</th>\n",
       "      <th>% Overall Passing</th>\n",
       "    </tr>\n",
       "  </thead>\n",
       "  <tbody>\n",
       "    <tr>\n",
       "      <th>0</th>\n",
       "      <td>15</td>\n",
       "      <td>39,170</td>\n",
       "      <td>$24,649,428</td>\n",
       "      <td>78.99%</td>\n",
       "      <td>81.88%</td>\n",
       "      <td>74.98%</td>\n",
       "      <td>85.81%</td>\n",
       "      <td>65.17%</td>\n",
       "    </tr>\n",
       "  </tbody>\n",
       "</table>\n",
       "</div>"
      ],
      "text/plain": [
       "   Total Schools Total Students Total Budget Avg Math Score Avg Reading Score  \\\n",
       "0             15         39,170  $24,649,428         78.99%            81.88%   \n",
       "\n",
       "  % Passing Math % Passing Reading % Overall Passing  \n",
       "0         74.98%            85.81%            65.17%  "
      ]
     },
     "execution_count": 24,
     "metadata": {},
     "output_type": "execute_result"
    }
   ],
   "source": [
    "# Create a dataframe to show the district summary\n",
    "district_summary_df = pd.DataFrame(\n",
    "    {\"Total Schools\": [total_schools],\n",
    "     \"Total Students\": [f'{total_students:,}'],\n",
    "     \"Total Budget\" : [f'${total_budget:,}'],\n",
    "     \"Avg Math Score\" : [f'{(avg_math_score / 100):.2%}'],\n",
    "     \"Avg Reading Score\" : [f'{(avg_reading_score / 100):.2%}'],\n",
    "     \"% Passing Math\" : [f'{(percent_passing_math):.2%}'],\n",
    "     \"% Passing Reading\" : [f'{percent_passing_reading:.2%}'],\n",
    "     \"% Overall Passing\" : [f'{percent_passing_overall:.2%}']\n",
    "     }\n",
    ")\n",
    "\n",
    "district_summary_df"
   ]
  },
  {
   "cell_type": "code",
   "execution_count": 25,
   "metadata": {},
   "outputs": [],
   "source": [
    "type_budget_df = schools[[\"type\", \"budget\"]].first()"
   ]
  },
  {
   "cell_type": "code",
   "execution_count": 26,
   "metadata": {},
   "outputs": [],
   "source": [
    "# Calculate the values for each column using the agg function\n",
    "school_summary1_df = schools.agg({\"type\" : \"first\",\n",
    "                                 \"Student ID\" : \"count\",\n",
    "                                 \"budget\" : \"first\",\n",
    "                                 \"math_score\" : \"mean\",\n",
    "                                 \"reading_score\" : \"mean\",\n",
    "                                 \"reading_pass_flag\" : \"sum\",\n",
    "                                 \"math_pass_flag\" : \"sum\",\n",
    "                                 \"pass_overall_flag\" : \"sum\"})\n",
    "\n",
    "# Rename the column headers\n",
    "school_summary1_df.rename(mapper = {\"type\" : \"School Type\",\n",
    "                                    \"Student ID\" : \"Total Students\",\n",
    "                                    \"budget\" : \"Total School Budget\",\n",
    "                                    \"math_score\" : \"Average Math Score\",\n",
    "                                    \"reading_score\" : \"Average Reading Score\",\n",
    "                                    \"reading_pass_flag\" : \"Total Students Passing Reading\",\n",
    "                                    \"math_pass_flag\" : \"Total Students Passing Math\",\n",
    "                                    \"pass_overall_flag\" : \"Total Students Passing Overall\"}, axis = \"columns\", inplace = True)\n",
    "\n"
   ]
  },
  {
   "cell_type": "code",
   "execution_count": 27,
   "metadata": {},
   "outputs": [],
   "source": [
    "# Calculate the budget per student\n",
    "budget_student = school_summary1_df[\"Total School Budget\"] / school_summary1_df[\"Total Students\"]\n",
    "\n",
    "# Calculate the passing percentages for each school\n",
    "percent_passing_math = (school_summary1_df[\"Total Students Passing Math\"] / school_summary1_df[\"Total Students\"])\n",
    "percent_passing_reading = (school_summary1_df[\"Total Students Passing Reading\"] / school_summary1_df[\"Total Students\"])\n",
    "percent_passing_overall = (school_summary1_df[\"Total Students Passing Overall\"] / school_summary1_df[\"Total Students\"])\n",
    "\n",
    "# Convert the budget per student series into a data frame\n",
    "budget_student_df = pd.DataFrame({\"Per Student Budget\" :budget_student,\n",
    "                                  \"% Passing Math\" : percent_passing_math,\n",
    "                                  \"% Passing Reading\" : percent_passing_reading,\n",
    "                                  \"% Overall Passing\" : percent_passing_overall})\n"
   ]
  },
  {
   "cell_type": "code",
   "execution_count": 28,
   "metadata": {},
   "outputs": [],
   "source": [
    "# Join the Per Student Budget data column to the data frame using a .join method\n",
    "new_school_summary_df = school_summary1_df.join(budget_student_df)\n"
   ]
  },
  {
   "cell_type": "markdown",
   "metadata": {},
   "source": [
    "## School Summary"
   ]
  },
  {
   "cell_type": "markdown",
   "metadata": {},
   "source": [
    "* Create an overview table that summarizes key metrics about each school, including:\n",
    "  * School Name\n",
    "  * School Type\n",
    "  * Total Students\n",
    "  * Total School Budget\n",
    "  * Per Student Budget\n",
    "  * Average Math Score\n",
    "  * Average Reading Score\n",
    "  * % Passing Math\n",
    "  * % Passing Reading\n",
    "  * % Overall Passing (The percentage of students that passed math **and** reading.)\n",
    "  \n",
    "* Create a dataframe to hold the above results"
   ]
  },
  {
   "cell_type": "code",
   "execution_count": 29,
   "metadata": {},
   "outputs": [
    {
     "data": {
      "text/html": [
       "<style  type=\"text/css\" >\n",
       "</style><table id=\"T_87ce0df4_f56b_11ea_bcbf_e86f381bf636\" ><thead>    <tr>        <th class=\"blank level0\" ></th>        <th class=\"col_heading level0 col0\" >School Type</th>        <th class=\"col_heading level0 col1\" >Total Students</th>        <th class=\"col_heading level0 col2\" >Total School Budget</th>        <th class=\"col_heading level0 col3\" >Per Student Budget</th>        <th class=\"col_heading level0 col4\" >Average Math Score</th>        <th class=\"col_heading level0 col5\" >Average Reading Score</th>        <th class=\"col_heading level0 col6\" >% Passing Math</th>        <th class=\"col_heading level0 col7\" >% Passing Reading</th>        <th class=\"col_heading level0 col8\" >% Overall Passing</th>    </tr>    <tr>        <th class=\"index_name level0\" >school_name</th>        <th class=\"blank\" ></th>        <th class=\"blank\" ></th>        <th class=\"blank\" ></th>        <th class=\"blank\" ></th>        <th class=\"blank\" ></th>        <th class=\"blank\" ></th>        <th class=\"blank\" ></th>        <th class=\"blank\" ></th>        <th class=\"blank\" ></th>    </tr></thead><tbody>\n",
       "                <tr>\n",
       "                        <th id=\"T_87ce0df4_f56b_11ea_bcbf_e86f381bf636level0_row0\" class=\"row_heading level0 row0\" >Bailey High School</th>\n",
       "                        <td id=\"T_87ce0df4_f56b_11ea_bcbf_e86f381bf636row0_col0\" class=\"data row0 col0\" >District</td>\n",
       "                        <td id=\"T_87ce0df4_f56b_11ea_bcbf_e86f381bf636row0_col1\" class=\"data row0 col1\" >4,976</td>\n",
       "                        <td id=\"T_87ce0df4_f56b_11ea_bcbf_e86f381bf636row0_col2\" class=\"data row0 col2\" >$3,124,928</td>\n",
       "                        <td id=\"T_87ce0df4_f56b_11ea_bcbf_e86f381bf636row0_col3\" class=\"data row0 col3\" >$628.00</td>\n",
       "                        <td id=\"T_87ce0df4_f56b_11ea_bcbf_e86f381bf636row0_col4\" class=\"data row0 col4\" >77.05%</td>\n",
       "                        <td id=\"T_87ce0df4_f56b_11ea_bcbf_e86f381bf636row0_col5\" class=\"data row0 col5\" >81.03%</td>\n",
       "                        <td id=\"T_87ce0df4_f56b_11ea_bcbf_e86f381bf636row0_col6\" class=\"data row0 col6\" >66.68%</td>\n",
       "                        <td id=\"T_87ce0df4_f56b_11ea_bcbf_e86f381bf636row0_col7\" class=\"data row0 col7\" >81.93%</td>\n",
       "                        <td id=\"T_87ce0df4_f56b_11ea_bcbf_e86f381bf636row0_col8\" class=\"data row0 col8\" >54.64%</td>\n",
       "            </tr>\n",
       "            <tr>\n",
       "                        <th id=\"T_87ce0df4_f56b_11ea_bcbf_e86f381bf636level0_row1\" class=\"row_heading level0 row1\" >Cabrera High School</th>\n",
       "                        <td id=\"T_87ce0df4_f56b_11ea_bcbf_e86f381bf636row1_col0\" class=\"data row1 col0\" >Charter</td>\n",
       "                        <td id=\"T_87ce0df4_f56b_11ea_bcbf_e86f381bf636row1_col1\" class=\"data row1 col1\" >1,858</td>\n",
       "                        <td id=\"T_87ce0df4_f56b_11ea_bcbf_e86f381bf636row1_col2\" class=\"data row1 col2\" >$1,081,356</td>\n",
       "                        <td id=\"T_87ce0df4_f56b_11ea_bcbf_e86f381bf636row1_col3\" class=\"data row1 col3\" >$582.00</td>\n",
       "                        <td id=\"T_87ce0df4_f56b_11ea_bcbf_e86f381bf636row1_col4\" class=\"data row1 col4\" >83.06%</td>\n",
       "                        <td id=\"T_87ce0df4_f56b_11ea_bcbf_e86f381bf636row1_col5\" class=\"data row1 col5\" >83.98%</td>\n",
       "                        <td id=\"T_87ce0df4_f56b_11ea_bcbf_e86f381bf636row1_col6\" class=\"data row1 col6\" >94.13%</td>\n",
       "                        <td id=\"T_87ce0df4_f56b_11ea_bcbf_e86f381bf636row1_col7\" class=\"data row1 col7\" >97.04%</td>\n",
       "                        <td id=\"T_87ce0df4_f56b_11ea_bcbf_e86f381bf636row1_col8\" class=\"data row1 col8\" >91.33%</td>\n",
       "            </tr>\n",
       "            <tr>\n",
       "                        <th id=\"T_87ce0df4_f56b_11ea_bcbf_e86f381bf636level0_row2\" class=\"row_heading level0 row2\" >Figueroa High School</th>\n",
       "                        <td id=\"T_87ce0df4_f56b_11ea_bcbf_e86f381bf636row2_col0\" class=\"data row2 col0\" >District</td>\n",
       "                        <td id=\"T_87ce0df4_f56b_11ea_bcbf_e86f381bf636row2_col1\" class=\"data row2 col1\" >2,949</td>\n",
       "                        <td id=\"T_87ce0df4_f56b_11ea_bcbf_e86f381bf636row2_col2\" class=\"data row2 col2\" >$1,884,411</td>\n",
       "                        <td id=\"T_87ce0df4_f56b_11ea_bcbf_e86f381bf636row2_col3\" class=\"data row2 col3\" >$639.00</td>\n",
       "                        <td id=\"T_87ce0df4_f56b_11ea_bcbf_e86f381bf636row2_col4\" class=\"data row2 col4\" >76.71%</td>\n",
       "                        <td id=\"T_87ce0df4_f56b_11ea_bcbf_e86f381bf636row2_col5\" class=\"data row2 col5\" >81.16%</td>\n",
       "                        <td id=\"T_87ce0df4_f56b_11ea_bcbf_e86f381bf636row2_col6\" class=\"data row2 col6\" >65.99%</td>\n",
       "                        <td id=\"T_87ce0df4_f56b_11ea_bcbf_e86f381bf636row2_col7\" class=\"data row2 col7\" >80.74%</td>\n",
       "                        <td id=\"T_87ce0df4_f56b_11ea_bcbf_e86f381bf636row2_col8\" class=\"data row2 col8\" >53.20%</td>\n",
       "            </tr>\n",
       "            <tr>\n",
       "                        <th id=\"T_87ce0df4_f56b_11ea_bcbf_e86f381bf636level0_row3\" class=\"row_heading level0 row3\" >Ford High School</th>\n",
       "                        <td id=\"T_87ce0df4_f56b_11ea_bcbf_e86f381bf636row3_col0\" class=\"data row3 col0\" >District</td>\n",
       "                        <td id=\"T_87ce0df4_f56b_11ea_bcbf_e86f381bf636row3_col1\" class=\"data row3 col1\" >2,739</td>\n",
       "                        <td id=\"T_87ce0df4_f56b_11ea_bcbf_e86f381bf636row3_col2\" class=\"data row3 col2\" >$1,763,916</td>\n",
       "                        <td id=\"T_87ce0df4_f56b_11ea_bcbf_e86f381bf636row3_col3\" class=\"data row3 col3\" >$644.00</td>\n",
       "                        <td id=\"T_87ce0df4_f56b_11ea_bcbf_e86f381bf636row3_col4\" class=\"data row3 col4\" >77.10%</td>\n",
       "                        <td id=\"T_87ce0df4_f56b_11ea_bcbf_e86f381bf636row3_col5\" class=\"data row3 col5\" >80.75%</td>\n",
       "                        <td id=\"T_87ce0df4_f56b_11ea_bcbf_e86f381bf636row3_col6\" class=\"data row3 col6\" >68.31%</td>\n",
       "                        <td id=\"T_87ce0df4_f56b_11ea_bcbf_e86f381bf636row3_col7\" class=\"data row3 col7\" >79.30%</td>\n",
       "                        <td id=\"T_87ce0df4_f56b_11ea_bcbf_e86f381bf636row3_col8\" class=\"data row3 col8\" >54.29%</td>\n",
       "            </tr>\n",
       "            <tr>\n",
       "                        <th id=\"T_87ce0df4_f56b_11ea_bcbf_e86f381bf636level0_row4\" class=\"row_heading level0 row4\" >Griffin High School</th>\n",
       "                        <td id=\"T_87ce0df4_f56b_11ea_bcbf_e86f381bf636row4_col0\" class=\"data row4 col0\" >Charter</td>\n",
       "                        <td id=\"T_87ce0df4_f56b_11ea_bcbf_e86f381bf636row4_col1\" class=\"data row4 col1\" >1,468</td>\n",
       "                        <td id=\"T_87ce0df4_f56b_11ea_bcbf_e86f381bf636row4_col2\" class=\"data row4 col2\" >$917,500</td>\n",
       "                        <td id=\"T_87ce0df4_f56b_11ea_bcbf_e86f381bf636row4_col3\" class=\"data row4 col3\" >$625.00</td>\n",
       "                        <td id=\"T_87ce0df4_f56b_11ea_bcbf_e86f381bf636row4_col4\" class=\"data row4 col4\" >83.35%</td>\n",
       "                        <td id=\"T_87ce0df4_f56b_11ea_bcbf_e86f381bf636row4_col5\" class=\"data row4 col5\" >83.82%</td>\n",
       "                        <td id=\"T_87ce0df4_f56b_11ea_bcbf_e86f381bf636row4_col6\" class=\"data row4 col6\" >93.39%</td>\n",
       "                        <td id=\"T_87ce0df4_f56b_11ea_bcbf_e86f381bf636row4_col7\" class=\"data row4 col7\" >97.14%</td>\n",
       "                        <td id=\"T_87ce0df4_f56b_11ea_bcbf_e86f381bf636row4_col8\" class=\"data row4 col8\" >90.60%</td>\n",
       "            </tr>\n",
       "            <tr>\n",
       "                        <th id=\"T_87ce0df4_f56b_11ea_bcbf_e86f381bf636level0_row5\" class=\"row_heading level0 row5\" >Hernandez High School</th>\n",
       "                        <td id=\"T_87ce0df4_f56b_11ea_bcbf_e86f381bf636row5_col0\" class=\"data row5 col0\" >District</td>\n",
       "                        <td id=\"T_87ce0df4_f56b_11ea_bcbf_e86f381bf636row5_col1\" class=\"data row5 col1\" >4,635</td>\n",
       "                        <td id=\"T_87ce0df4_f56b_11ea_bcbf_e86f381bf636row5_col2\" class=\"data row5 col2\" >$3,022,020</td>\n",
       "                        <td id=\"T_87ce0df4_f56b_11ea_bcbf_e86f381bf636row5_col3\" class=\"data row5 col3\" >$652.00</td>\n",
       "                        <td id=\"T_87ce0df4_f56b_11ea_bcbf_e86f381bf636row5_col4\" class=\"data row5 col4\" >77.29%</td>\n",
       "                        <td id=\"T_87ce0df4_f56b_11ea_bcbf_e86f381bf636row5_col5\" class=\"data row5 col5\" >80.93%</td>\n",
       "                        <td id=\"T_87ce0df4_f56b_11ea_bcbf_e86f381bf636row5_col6\" class=\"data row5 col6\" >66.75%</td>\n",
       "                        <td id=\"T_87ce0df4_f56b_11ea_bcbf_e86f381bf636row5_col7\" class=\"data row5 col7\" >80.86%</td>\n",
       "                        <td id=\"T_87ce0df4_f56b_11ea_bcbf_e86f381bf636row5_col8\" class=\"data row5 col8\" >53.53%</td>\n",
       "            </tr>\n",
       "            <tr>\n",
       "                        <th id=\"T_87ce0df4_f56b_11ea_bcbf_e86f381bf636level0_row6\" class=\"row_heading level0 row6\" >Holden High School</th>\n",
       "                        <td id=\"T_87ce0df4_f56b_11ea_bcbf_e86f381bf636row6_col0\" class=\"data row6 col0\" >Charter</td>\n",
       "                        <td id=\"T_87ce0df4_f56b_11ea_bcbf_e86f381bf636row6_col1\" class=\"data row6 col1\" >427</td>\n",
       "                        <td id=\"T_87ce0df4_f56b_11ea_bcbf_e86f381bf636row6_col2\" class=\"data row6 col2\" >$248,087</td>\n",
       "                        <td id=\"T_87ce0df4_f56b_11ea_bcbf_e86f381bf636row6_col3\" class=\"data row6 col3\" >$581.00</td>\n",
       "                        <td id=\"T_87ce0df4_f56b_11ea_bcbf_e86f381bf636row6_col4\" class=\"data row6 col4\" >83.80%</td>\n",
       "                        <td id=\"T_87ce0df4_f56b_11ea_bcbf_e86f381bf636row6_col5\" class=\"data row6 col5\" >83.81%</td>\n",
       "                        <td id=\"T_87ce0df4_f56b_11ea_bcbf_e86f381bf636row6_col6\" class=\"data row6 col6\" >92.51%</td>\n",
       "                        <td id=\"T_87ce0df4_f56b_11ea_bcbf_e86f381bf636row6_col7\" class=\"data row6 col7\" >96.25%</td>\n",
       "                        <td id=\"T_87ce0df4_f56b_11ea_bcbf_e86f381bf636row6_col8\" class=\"data row6 col8\" >89.23%</td>\n",
       "            </tr>\n",
       "            <tr>\n",
       "                        <th id=\"T_87ce0df4_f56b_11ea_bcbf_e86f381bf636level0_row7\" class=\"row_heading level0 row7\" >Huang High School</th>\n",
       "                        <td id=\"T_87ce0df4_f56b_11ea_bcbf_e86f381bf636row7_col0\" class=\"data row7 col0\" >District</td>\n",
       "                        <td id=\"T_87ce0df4_f56b_11ea_bcbf_e86f381bf636row7_col1\" class=\"data row7 col1\" >2,917</td>\n",
       "                        <td id=\"T_87ce0df4_f56b_11ea_bcbf_e86f381bf636row7_col2\" class=\"data row7 col2\" >$1,910,635</td>\n",
       "                        <td id=\"T_87ce0df4_f56b_11ea_bcbf_e86f381bf636row7_col3\" class=\"data row7 col3\" >$655.00</td>\n",
       "                        <td id=\"T_87ce0df4_f56b_11ea_bcbf_e86f381bf636row7_col4\" class=\"data row7 col4\" >76.63%</td>\n",
       "                        <td id=\"T_87ce0df4_f56b_11ea_bcbf_e86f381bf636row7_col5\" class=\"data row7 col5\" >81.18%</td>\n",
       "                        <td id=\"T_87ce0df4_f56b_11ea_bcbf_e86f381bf636row7_col6\" class=\"data row7 col6\" >65.68%</td>\n",
       "                        <td id=\"T_87ce0df4_f56b_11ea_bcbf_e86f381bf636row7_col7\" class=\"data row7 col7\" >81.32%</td>\n",
       "                        <td id=\"T_87ce0df4_f56b_11ea_bcbf_e86f381bf636row7_col8\" class=\"data row7 col8\" >53.51%</td>\n",
       "            </tr>\n",
       "            <tr>\n",
       "                        <th id=\"T_87ce0df4_f56b_11ea_bcbf_e86f381bf636level0_row8\" class=\"row_heading level0 row8\" >Johnson High School</th>\n",
       "                        <td id=\"T_87ce0df4_f56b_11ea_bcbf_e86f381bf636row8_col0\" class=\"data row8 col0\" >District</td>\n",
       "                        <td id=\"T_87ce0df4_f56b_11ea_bcbf_e86f381bf636row8_col1\" class=\"data row8 col1\" >4,761</td>\n",
       "                        <td id=\"T_87ce0df4_f56b_11ea_bcbf_e86f381bf636row8_col2\" class=\"data row8 col2\" >$3,094,650</td>\n",
       "                        <td id=\"T_87ce0df4_f56b_11ea_bcbf_e86f381bf636row8_col3\" class=\"data row8 col3\" >$650.00</td>\n",
       "                        <td id=\"T_87ce0df4_f56b_11ea_bcbf_e86f381bf636row8_col4\" class=\"data row8 col4\" >77.07%</td>\n",
       "                        <td id=\"T_87ce0df4_f56b_11ea_bcbf_e86f381bf636row8_col5\" class=\"data row8 col5\" >80.97%</td>\n",
       "                        <td id=\"T_87ce0df4_f56b_11ea_bcbf_e86f381bf636row8_col6\" class=\"data row8 col6\" >66.06%</td>\n",
       "                        <td id=\"T_87ce0df4_f56b_11ea_bcbf_e86f381bf636row8_col7\" class=\"data row8 col7\" >81.22%</td>\n",
       "                        <td id=\"T_87ce0df4_f56b_11ea_bcbf_e86f381bf636row8_col8\" class=\"data row8 col8\" >53.54%</td>\n",
       "            </tr>\n",
       "            <tr>\n",
       "                        <th id=\"T_87ce0df4_f56b_11ea_bcbf_e86f381bf636level0_row9\" class=\"row_heading level0 row9\" >Pena High School</th>\n",
       "                        <td id=\"T_87ce0df4_f56b_11ea_bcbf_e86f381bf636row9_col0\" class=\"data row9 col0\" >Charter</td>\n",
       "                        <td id=\"T_87ce0df4_f56b_11ea_bcbf_e86f381bf636row9_col1\" class=\"data row9 col1\" >962</td>\n",
       "                        <td id=\"T_87ce0df4_f56b_11ea_bcbf_e86f381bf636row9_col2\" class=\"data row9 col2\" >$585,858</td>\n",
       "                        <td id=\"T_87ce0df4_f56b_11ea_bcbf_e86f381bf636row9_col3\" class=\"data row9 col3\" >$609.00</td>\n",
       "                        <td id=\"T_87ce0df4_f56b_11ea_bcbf_e86f381bf636row9_col4\" class=\"data row9 col4\" >83.84%</td>\n",
       "                        <td id=\"T_87ce0df4_f56b_11ea_bcbf_e86f381bf636row9_col5\" class=\"data row9 col5\" >84.04%</td>\n",
       "                        <td id=\"T_87ce0df4_f56b_11ea_bcbf_e86f381bf636row9_col6\" class=\"data row9 col6\" >94.59%</td>\n",
       "                        <td id=\"T_87ce0df4_f56b_11ea_bcbf_e86f381bf636row9_col7\" class=\"data row9 col7\" >95.95%</td>\n",
       "                        <td id=\"T_87ce0df4_f56b_11ea_bcbf_e86f381bf636row9_col8\" class=\"data row9 col8\" >90.54%</td>\n",
       "            </tr>\n",
       "            <tr>\n",
       "                        <th id=\"T_87ce0df4_f56b_11ea_bcbf_e86f381bf636level0_row10\" class=\"row_heading level0 row10\" >Rodriguez High School</th>\n",
       "                        <td id=\"T_87ce0df4_f56b_11ea_bcbf_e86f381bf636row10_col0\" class=\"data row10 col0\" >District</td>\n",
       "                        <td id=\"T_87ce0df4_f56b_11ea_bcbf_e86f381bf636row10_col1\" class=\"data row10 col1\" >3,999</td>\n",
       "                        <td id=\"T_87ce0df4_f56b_11ea_bcbf_e86f381bf636row10_col2\" class=\"data row10 col2\" >$2,547,363</td>\n",
       "                        <td id=\"T_87ce0df4_f56b_11ea_bcbf_e86f381bf636row10_col3\" class=\"data row10 col3\" >$637.00</td>\n",
       "                        <td id=\"T_87ce0df4_f56b_11ea_bcbf_e86f381bf636row10_col4\" class=\"data row10 col4\" >76.84%</td>\n",
       "                        <td id=\"T_87ce0df4_f56b_11ea_bcbf_e86f381bf636row10_col5\" class=\"data row10 col5\" >80.74%</td>\n",
       "                        <td id=\"T_87ce0df4_f56b_11ea_bcbf_e86f381bf636row10_col6\" class=\"data row10 col6\" >66.37%</td>\n",
       "                        <td id=\"T_87ce0df4_f56b_11ea_bcbf_e86f381bf636row10_col7\" class=\"data row10 col7\" >80.22%</td>\n",
       "                        <td id=\"T_87ce0df4_f56b_11ea_bcbf_e86f381bf636row10_col8\" class=\"data row10 col8\" >52.99%</td>\n",
       "            </tr>\n",
       "            <tr>\n",
       "                        <th id=\"T_87ce0df4_f56b_11ea_bcbf_e86f381bf636level0_row11\" class=\"row_heading level0 row11\" >Shelton High School</th>\n",
       "                        <td id=\"T_87ce0df4_f56b_11ea_bcbf_e86f381bf636row11_col0\" class=\"data row11 col0\" >Charter</td>\n",
       "                        <td id=\"T_87ce0df4_f56b_11ea_bcbf_e86f381bf636row11_col1\" class=\"data row11 col1\" >1,761</td>\n",
       "                        <td id=\"T_87ce0df4_f56b_11ea_bcbf_e86f381bf636row11_col2\" class=\"data row11 col2\" >$1,056,600</td>\n",
       "                        <td id=\"T_87ce0df4_f56b_11ea_bcbf_e86f381bf636row11_col3\" class=\"data row11 col3\" >$600.00</td>\n",
       "                        <td id=\"T_87ce0df4_f56b_11ea_bcbf_e86f381bf636row11_col4\" class=\"data row11 col4\" >83.36%</td>\n",
       "                        <td id=\"T_87ce0df4_f56b_11ea_bcbf_e86f381bf636row11_col5\" class=\"data row11 col5\" >83.73%</td>\n",
       "                        <td id=\"T_87ce0df4_f56b_11ea_bcbf_e86f381bf636row11_col6\" class=\"data row11 col6\" >93.87%</td>\n",
       "                        <td id=\"T_87ce0df4_f56b_11ea_bcbf_e86f381bf636row11_col7\" class=\"data row11 col7\" >95.85%</td>\n",
       "                        <td id=\"T_87ce0df4_f56b_11ea_bcbf_e86f381bf636row11_col8\" class=\"data row11 col8\" >89.89%</td>\n",
       "            </tr>\n",
       "            <tr>\n",
       "                        <th id=\"T_87ce0df4_f56b_11ea_bcbf_e86f381bf636level0_row12\" class=\"row_heading level0 row12\" >Thomas High School</th>\n",
       "                        <td id=\"T_87ce0df4_f56b_11ea_bcbf_e86f381bf636row12_col0\" class=\"data row12 col0\" >Charter</td>\n",
       "                        <td id=\"T_87ce0df4_f56b_11ea_bcbf_e86f381bf636row12_col1\" class=\"data row12 col1\" >1,635</td>\n",
       "                        <td id=\"T_87ce0df4_f56b_11ea_bcbf_e86f381bf636row12_col2\" class=\"data row12 col2\" >$1,043,130</td>\n",
       "                        <td id=\"T_87ce0df4_f56b_11ea_bcbf_e86f381bf636row12_col3\" class=\"data row12 col3\" >$638.00</td>\n",
       "                        <td id=\"T_87ce0df4_f56b_11ea_bcbf_e86f381bf636row12_col4\" class=\"data row12 col4\" >83.42%</td>\n",
       "                        <td id=\"T_87ce0df4_f56b_11ea_bcbf_e86f381bf636row12_col5\" class=\"data row12 col5\" >83.85%</td>\n",
       "                        <td id=\"T_87ce0df4_f56b_11ea_bcbf_e86f381bf636row12_col6\" class=\"data row12 col6\" >93.27%</td>\n",
       "                        <td id=\"T_87ce0df4_f56b_11ea_bcbf_e86f381bf636row12_col7\" class=\"data row12 col7\" >97.31%</td>\n",
       "                        <td id=\"T_87ce0df4_f56b_11ea_bcbf_e86f381bf636row12_col8\" class=\"data row12 col8\" >90.95%</td>\n",
       "            </tr>\n",
       "            <tr>\n",
       "                        <th id=\"T_87ce0df4_f56b_11ea_bcbf_e86f381bf636level0_row13\" class=\"row_heading level0 row13\" >Wilson High School</th>\n",
       "                        <td id=\"T_87ce0df4_f56b_11ea_bcbf_e86f381bf636row13_col0\" class=\"data row13 col0\" >Charter</td>\n",
       "                        <td id=\"T_87ce0df4_f56b_11ea_bcbf_e86f381bf636row13_col1\" class=\"data row13 col1\" >2,283</td>\n",
       "                        <td id=\"T_87ce0df4_f56b_11ea_bcbf_e86f381bf636row13_col2\" class=\"data row13 col2\" >$1,319,574</td>\n",
       "                        <td id=\"T_87ce0df4_f56b_11ea_bcbf_e86f381bf636row13_col3\" class=\"data row13 col3\" >$578.00</td>\n",
       "                        <td id=\"T_87ce0df4_f56b_11ea_bcbf_e86f381bf636row13_col4\" class=\"data row13 col4\" >83.27%</td>\n",
       "                        <td id=\"T_87ce0df4_f56b_11ea_bcbf_e86f381bf636row13_col5\" class=\"data row13 col5\" >83.99%</td>\n",
       "                        <td id=\"T_87ce0df4_f56b_11ea_bcbf_e86f381bf636row13_col6\" class=\"data row13 col6\" >93.87%</td>\n",
       "                        <td id=\"T_87ce0df4_f56b_11ea_bcbf_e86f381bf636row13_col7\" class=\"data row13 col7\" >96.54%</td>\n",
       "                        <td id=\"T_87ce0df4_f56b_11ea_bcbf_e86f381bf636row13_col8\" class=\"data row13 col8\" >90.58%</td>\n",
       "            </tr>\n",
       "            <tr>\n",
       "                        <th id=\"T_87ce0df4_f56b_11ea_bcbf_e86f381bf636level0_row14\" class=\"row_heading level0 row14\" >Wright High School</th>\n",
       "                        <td id=\"T_87ce0df4_f56b_11ea_bcbf_e86f381bf636row14_col0\" class=\"data row14 col0\" >Charter</td>\n",
       "                        <td id=\"T_87ce0df4_f56b_11ea_bcbf_e86f381bf636row14_col1\" class=\"data row14 col1\" >1,800</td>\n",
       "                        <td id=\"T_87ce0df4_f56b_11ea_bcbf_e86f381bf636row14_col2\" class=\"data row14 col2\" >$1,049,400</td>\n",
       "                        <td id=\"T_87ce0df4_f56b_11ea_bcbf_e86f381bf636row14_col3\" class=\"data row14 col3\" >$583.00</td>\n",
       "                        <td id=\"T_87ce0df4_f56b_11ea_bcbf_e86f381bf636row14_col4\" class=\"data row14 col4\" >83.68%</td>\n",
       "                        <td id=\"T_87ce0df4_f56b_11ea_bcbf_e86f381bf636row14_col5\" class=\"data row14 col5\" >83.95%</td>\n",
       "                        <td id=\"T_87ce0df4_f56b_11ea_bcbf_e86f381bf636row14_col6\" class=\"data row14 col6\" >93.33%</td>\n",
       "                        <td id=\"T_87ce0df4_f56b_11ea_bcbf_e86f381bf636row14_col7\" class=\"data row14 col7\" >96.61%</td>\n",
       "                        <td id=\"T_87ce0df4_f56b_11ea_bcbf_e86f381bf636row14_col8\" class=\"data row14 col8\" >90.33%</td>\n",
       "            </tr>\n",
       "    </tbody></table>"
      ],
      "text/plain": [
       "<pandas.io.formats.style.Styler at 0x2481c775c48>"
      ]
     },
     "execution_count": 29,
     "metadata": {},
     "output_type": "execute_result"
    }
   ],
   "source": [
    "# Set the column order for the updated data frame\n",
    "column_order = [\"School Type\", \"Total Students\", \"Total School Budget\", \"Per Student Budget\",\n",
    "                \"Average Math Score\", \"Average Reading Score\", \"% Passing Math\", \"% Passing Reading\", \"% Overall Passing\"]\n",
    "\n",
    "# Apply the column order to the new data frame and save with a new dataframe name\n",
    "school_summary_with_budget_df = new_school_summary_df.reindex(columns = column_order)\n",
    "school_summary_with_budget_df\n",
    "\n",
    "# Apply formatting\n",
    "school_summary_with_budget_df[[\"Average Math Score\", \"Average Reading Score\"]] = \\\n",
    "school_summary_with_budget_df[[\"Average Math Score\", \"Average Reading Score\"]] / 100\n",
    "\n",
    "school_summary_with_budget_style_df = school_summary_with_budget_df.style.format({\"Total Students\" : \"{:,}\",\n",
    "                                                                                  \"Total School Budget\" : \"${:,}\",\n",
    "                                                                                  \"Per Student Budget\" : \"${:.2f}\",\n",
    "                                                                                  \"Average Math Score\" : \"{:.2%}\",\n",
    "                                                                                  \"Average Reading Score\" : \"{:.2%}\",\n",
    "                                                                                  \"% Passing Math\" : \"{:.2%}\",\n",
    "                                                                                  \"% Passing Reading\" : \"{:.2%}\",\n",
    "                                                                                  \"% Overall Passing\" : \"{:.2%}\"                                           \n",
    "                                                                                  })\n",
    "\n",
    "school_summary_with_budget_style_df"
   ]
  },
  {
   "cell_type": "markdown",
   "metadata": {},
   "source": [
    "## Top Performing Schools (By % Overall Passing)"
   ]
  },
  {
   "cell_type": "code",
   "execution_count": 30,
   "metadata": {},
   "outputs": [
    {
     "data": {
      "text/html": [
       "<style  type=\"text/css\" >\n",
       "</style><table id=\"T_87cfba98_f56b_11ea_abfe_e86f381bf636\" ><thead>    <tr>        <th class=\"blank level0\" ></th>        <th class=\"col_heading level0 col0\" >School Type</th>        <th class=\"col_heading level0 col1\" >Total Students</th>        <th class=\"col_heading level0 col2\" >Total School Budget</th>        <th class=\"col_heading level0 col3\" >Per Student Budget</th>        <th class=\"col_heading level0 col4\" >Average Math Score</th>        <th class=\"col_heading level0 col5\" >Average Reading Score</th>        <th class=\"col_heading level0 col6\" >% Passing Math</th>        <th class=\"col_heading level0 col7\" >% Passing Reading</th>        <th class=\"col_heading level0 col8\" >% Overall Passing</th>    </tr>    <tr>        <th class=\"index_name level0\" >school_name</th>        <th class=\"blank\" ></th>        <th class=\"blank\" ></th>        <th class=\"blank\" ></th>        <th class=\"blank\" ></th>        <th class=\"blank\" ></th>        <th class=\"blank\" ></th>        <th class=\"blank\" ></th>        <th class=\"blank\" ></th>        <th class=\"blank\" ></th>    </tr></thead><tbody>\n",
       "                <tr>\n",
       "                        <th id=\"T_87cfba98_f56b_11ea_abfe_e86f381bf636level0_row0\" class=\"row_heading level0 row0\" >Cabrera High School</th>\n",
       "                        <td id=\"T_87cfba98_f56b_11ea_abfe_e86f381bf636row0_col0\" class=\"data row0 col0\" >Charter</td>\n",
       "                        <td id=\"T_87cfba98_f56b_11ea_abfe_e86f381bf636row0_col1\" class=\"data row0 col1\" >1,858</td>\n",
       "                        <td id=\"T_87cfba98_f56b_11ea_abfe_e86f381bf636row0_col2\" class=\"data row0 col2\" >$1,081,356</td>\n",
       "                        <td id=\"T_87cfba98_f56b_11ea_abfe_e86f381bf636row0_col3\" class=\"data row0 col3\" >$582.00</td>\n",
       "                        <td id=\"T_87cfba98_f56b_11ea_abfe_e86f381bf636row0_col4\" class=\"data row0 col4\" >83.06%</td>\n",
       "                        <td id=\"T_87cfba98_f56b_11ea_abfe_e86f381bf636row0_col5\" class=\"data row0 col5\" >83.98%</td>\n",
       "                        <td id=\"T_87cfba98_f56b_11ea_abfe_e86f381bf636row0_col6\" class=\"data row0 col6\" >94.13%</td>\n",
       "                        <td id=\"T_87cfba98_f56b_11ea_abfe_e86f381bf636row0_col7\" class=\"data row0 col7\" >97.04%</td>\n",
       "                        <td id=\"T_87cfba98_f56b_11ea_abfe_e86f381bf636row0_col8\" class=\"data row0 col8\" >91.33%</td>\n",
       "            </tr>\n",
       "            <tr>\n",
       "                        <th id=\"T_87cfba98_f56b_11ea_abfe_e86f381bf636level0_row1\" class=\"row_heading level0 row1\" >Thomas High School</th>\n",
       "                        <td id=\"T_87cfba98_f56b_11ea_abfe_e86f381bf636row1_col0\" class=\"data row1 col0\" >Charter</td>\n",
       "                        <td id=\"T_87cfba98_f56b_11ea_abfe_e86f381bf636row1_col1\" class=\"data row1 col1\" >1,635</td>\n",
       "                        <td id=\"T_87cfba98_f56b_11ea_abfe_e86f381bf636row1_col2\" class=\"data row1 col2\" >$1,043,130</td>\n",
       "                        <td id=\"T_87cfba98_f56b_11ea_abfe_e86f381bf636row1_col3\" class=\"data row1 col3\" >$638.00</td>\n",
       "                        <td id=\"T_87cfba98_f56b_11ea_abfe_e86f381bf636row1_col4\" class=\"data row1 col4\" >83.42%</td>\n",
       "                        <td id=\"T_87cfba98_f56b_11ea_abfe_e86f381bf636row1_col5\" class=\"data row1 col5\" >83.85%</td>\n",
       "                        <td id=\"T_87cfba98_f56b_11ea_abfe_e86f381bf636row1_col6\" class=\"data row1 col6\" >93.27%</td>\n",
       "                        <td id=\"T_87cfba98_f56b_11ea_abfe_e86f381bf636row1_col7\" class=\"data row1 col7\" >97.31%</td>\n",
       "                        <td id=\"T_87cfba98_f56b_11ea_abfe_e86f381bf636row1_col8\" class=\"data row1 col8\" >90.95%</td>\n",
       "            </tr>\n",
       "            <tr>\n",
       "                        <th id=\"T_87cfba98_f56b_11ea_abfe_e86f381bf636level0_row2\" class=\"row_heading level0 row2\" >Griffin High School</th>\n",
       "                        <td id=\"T_87cfba98_f56b_11ea_abfe_e86f381bf636row2_col0\" class=\"data row2 col0\" >Charter</td>\n",
       "                        <td id=\"T_87cfba98_f56b_11ea_abfe_e86f381bf636row2_col1\" class=\"data row2 col1\" >1,468</td>\n",
       "                        <td id=\"T_87cfba98_f56b_11ea_abfe_e86f381bf636row2_col2\" class=\"data row2 col2\" >$917,500</td>\n",
       "                        <td id=\"T_87cfba98_f56b_11ea_abfe_e86f381bf636row2_col3\" class=\"data row2 col3\" >$625.00</td>\n",
       "                        <td id=\"T_87cfba98_f56b_11ea_abfe_e86f381bf636row2_col4\" class=\"data row2 col4\" >83.35%</td>\n",
       "                        <td id=\"T_87cfba98_f56b_11ea_abfe_e86f381bf636row2_col5\" class=\"data row2 col5\" >83.82%</td>\n",
       "                        <td id=\"T_87cfba98_f56b_11ea_abfe_e86f381bf636row2_col6\" class=\"data row2 col6\" >93.39%</td>\n",
       "                        <td id=\"T_87cfba98_f56b_11ea_abfe_e86f381bf636row2_col7\" class=\"data row2 col7\" >97.14%</td>\n",
       "                        <td id=\"T_87cfba98_f56b_11ea_abfe_e86f381bf636row2_col8\" class=\"data row2 col8\" >90.60%</td>\n",
       "            </tr>\n",
       "            <tr>\n",
       "                        <th id=\"T_87cfba98_f56b_11ea_abfe_e86f381bf636level0_row3\" class=\"row_heading level0 row3\" >Wilson High School</th>\n",
       "                        <td id=\"T_87cfba98_f56b_11ea_abfe_e86f381bf636row3_col0\" class=\"data row3 col0\" >Charter</td>\n",
       "                        <td id=\"T_87cfba98_f56b_11ea_abfe_e86f381bf636row3_col1\" class=\"data row3 col1\" >2,283</td>\n",
       "                        <td id=\"T_87cfba98_f56b_11ea_abfe_e86f381bf636row3_col2\" class=\"data row3 col2\" >$1,319,574</td>\n",
       "                        <td id=\"T_87cfba98_f56b_11ea_abfe_e86f381bf636row3_col3\" class=\"data row3 col3\" >$578.00</td>\n",
       "                        <td id=\"T_87cfba98_f56b_11ea_abfe_e86f381bf636row3_col4\" class=\"data row3 col4\" >83.27%</td>\n",
       "                        <td id=\"T_87cfba98_f56b_11ea_abfe_e86f381bf636row3_col5\" class=\"data row3 col5\" >83.99%</td>\n",
       "                        <td id=\"T_87cfba98_f56b_11ea_abfe_e86f381bf636row3_col6\" class=\"data row3 col6\" >93.87%</td>\n",
       "                        <td id=\"T_87cfba98_f56b_11ea_abfe_e86f381bf636row3_col7\" class=\"data row3 col7\" >96.54%</td>\n",
       "                        <td id=\"T_87cfba98_f56b_11ea_abfe_e86f381bf636row3_col8\" class=\"data row3 col8\" >90.58%</td>\n",
       "            </tr>\n",
       "            <tr>\n",
       "                        <th id=\"T_87cfba98_f56b_11ea_abfe_e86f381bf636level0_row4\" class=\"row_heading level0 row4\" >Pena High School</th>\n",
       "                        <td id=\"T_87cfba98_f56b_11ea_abfe_e86f381bf636row4_col0\" class=\"data row4 col0\" >Charter</td>\n",
       "                        <td id=\"T_87cfba98_f56b_11ea_abfe_e86f381bf636row4_col1\" class=\"data row4 col1\" >962</td>\n",
       "                        <td id=\"T_87cfba98_f56b_11ea_abfe_e86f381bf636row4_col2\" class=\"data row4 col2\" >$585,858</td>\n",
       "                        <td id=\"T_87cfba98_f56b_11ea_abfe_e86f381bf636row4_col3\" class=\"data row4 col3\" >$609.00</td>\n",
       "                        <td id=\"T_87cfba98_f56b_11ea_abfe_e86f381bf636row4_col4\" class=\"data row4 col4\" >83.84%</td>\n",
       "                        <td id=\"T_87cfba98_f56b_11ea_abfe_e86f381bf636row4_col5\" class=\"data row4 col5\" >84.04%</td>\n",
       "                        <td id=\"T_87cfba98_f56b_11ea_abfe_e86f381bf636row4_col6\" class=\"data row4 col6\" >94.59%</td>\n",
       "                        <td id=\"T_87cfba98_f56b_11ea_abfe_e86f381bf636row4_col7\" class=\"data row4 col7\" >95.95%</td>\n",
       "                        <td id=\"T_87cfba98_f56b_11ea_abfe_e86f381bf636row4_col8\" class=\"data row4 col8\" >90.54%</td>\n",
       "            </tr>\n",
       "    </tbody></table>"
      ],
      "text/plain": [
       "<pandas.io.formats.style.Styler at 0x2481c775b48>"
      ]
     },
     "execution_count": 30,
     "metadata": {},
     "output_type": "execute_result"
    }
   ],
   "source": [
    "# Sort the dataframe to find the top schools\n",
    "top_school_summary_with_budget_df = school_summary_with_budget_df.sort_values(\"% Overall Passing\", ascending = False).head(5)\n",
    "\n",
    "# Apply Formatting\n",
    "top_school_summary_with_budget_df = top_school_summary_with_budget_df.style.format({\"Total Students\" : \"{:,}\",\n",
    "                                                                                          \"Total School Budget\" : \"${:,}\",\n",
    "                                                                                          \"Per Student Budget\" : \"${:.2f}\",\n",
    "                                                                                          \"Average Math Score\" : \"{:.2%}\",\n",
    "                                                                                          \"Average Reading Score\" : \"{:.2%}\",\n",
    "                                                                                          \"% Passing Math\" : \"{:.2%}\",\n",
    "                                                                                          \"% Passing Reading\" : \"{:.2%}\",\n",
    "                                                                                          \"% Overall Passing\" : \"{:.2%}\"                                           \n",
    "                                                                                          })\n",
    "\n",
    "top_school_summary_with_budget_df"
   ]
  },
  {
   "cell_type": "markdown",
   "metadata": {},
   "source": [
    "## Bottom Performing Schools (By % Overall Passing)"
   ]
  },
  {
   "cell_type": "code",
   "execution_count": 31,
   "metadata": {},
   "outputs": [
    {
     "data": {
      "text/html": [
       "<style  type=\"text/css\" >\n",
       "</style><table id=\"T_87d14012_f56b_11ea_a0ed_e86f381bf636\" ><thead>    <tr>        <th class=\"blank level0\" ></th>        <th class=\"col_heading level0 col0\" >School Type</th>        <th class=\"col_heading level0 col1\" >Total Students</th>        <th class=\"col_heading level0 col2\" >Total School Budget</th>        <th class=\"col_heading level0 col3\" >Per Student Budget</th>        <th class=\"col_heading level0 col4\" >Average Math Score</th>        <th class=\"col_heading level0 col5\" >Average Reading Score</th>        <th class=\"col_heading level0 col6\" >% Passing Math</th>        <th class=\"col_heading level0 col7\" >% Passing Reading</th>        <th class=\"col_heading level0 col8\" >% Overall Passing</th>    </tr>    <tr>        <th class=\"index_name level0\" >school_name</th>        <th class=\"blank\" ></th>        <th class=\"blank\" ></th>        <th class=\"blank\" ></th>        <th class=\"blank\" ></th>        <th class=\"blank\" ></th>        <th class=\"blank\" ></th>        <th class=\"blank\" ></th>        <th class=\"blank\" ></th>        <th class=\"blank\" ></th>    </tr></thead><tbody>\n",
       "                <tr>\n",
       "                        <th id=\"T_87d14012_f56b_11ea_a0ed_e86f381bf636level0_row0\" class=\"row_heading level0 row0\" >Rodriguez High School</th>\n",
       "                        <td id=\"T_87d14012_f56b_11ea_a0ed_e86f381bf636row0_col0\" class=\"data row0 col0\" >District</td>\n",
       "                        <td id=\"T_87d14012_f56b_11ea_a0ed_e86f381bf636row0_col1\" class=\"data row0 col1\" >3,999</td>\n",
       "                        <td id=\"T_87d14012_f56b_11ea_a0ed_e86f381bf636row0_col2\" class=\"data row0 col2\" >$2,547,363</td>\n",
       "                        <td id=\"T_87d14012_f56b_11ea_a0ed_e86f381bf636row0_col3\" class=\"data row0 col3\" >$637.00</td>\n",
       "                        <td id=\"T_87d14012_f56b_11ea_a0ed_e86f381bf636row0_col4\" class=\"data row0 col4\" >76.84%</td>\n",
       "                        <td id=\"T_87d14012_f56b_11ea_a0ed_e86f381bf636row0_col5\" class=\"data row0 col5\" >80.74%</td>\n",
       "                        <td id=\"T_87d14012_f56b_11ea_a0ed_e86f381bf636row0_col6\" class=\"data row0 col6\" >66.37%</td>\n",
       "                        <td id=\"T_87d14012_f56b_11ea_a0ed_e86f381bf636row0_col7\" class=\"data row0 col7\" >80.22%</td>\n",
       "                        <td id=\"T_87d14012_f56b_11ea_a0ed_e86f381bf636row0_col8\" class=\"data row0 col8\" >52.99%</td>\n",
       "            </tr>\n",
       "            <tr>\n",
       "                        <th id=\"T_87d14012_f56b_11ea_a0ed_e86f381bf636level0_row1\" class=\"row_heading level0 row1\" >Figueroa High School</th>\n",
       "                        <td id=\"T_87d14012_f56b_11ea_a0ed_e86f381bf636row1_col0\" class=\"data row1 col0\" >District</td>\n",
       "                        <td id=\"T_87d14012_f56b_11ea_a0ed_e86f381bf636row1_col1\" class=\"data row1 col1\" >2,949</td>\n",
       "                        <td id=\"T_87d14012_f56b_11ea_a0ed_e86f381bf636row1_col2\" class=\"data row1 col2\" >$1,884,411</td>\n",
       "                        <td id=\"T_87d14012_f56b_11ea_a0ed_e86f381bf636row1_col3\" class=\"data row1 col3\" >$639.00</td>\n",
       "                        <td id=\"T_87d14012_f56b_11ea_a0ed_e86f381bf636row1_col4\" class=\"data row1 col4\" >76.71%</td>\n",
       "                        <td id=\"T_87d14012_f56b_11ea_a0ed_e86f381bf636row1_col5\" class=\"data row1 col5\" >81.16%</td>\n",
       "                        <td id=\"T_87d14012_f56b_11ea_a0ed_e86f381bf636row1_col6\" class=\"data row1 col6\" >65.99%</td>\n",
       "                        <td id=\"T_87d14012_f56b_11ea_a0ed_e86f381bf636row1_col7\" class=\"data row1 col7\" >80.74%</td>\n",
       "                        <td id=\"T_87d14012_f56b_11ea_a0ed_e86f381bf636row1_col8\" class=\"data row1 col8\" >53.20%</td>\n",
       "            </tr>\n",
       "            <tr>\n",
       "                        <th id=\"T_87d14012_f56b_11ea_a0ed_e86f381bf636level0_row2\" class=\"row_heading level0 row2\" >Huang High School</th>\n",
       "                        <td id=\"T_87d14012_f56b_11ea_a0ed_e86f381bf636row2_col0\" class=\"data row2 col0\" >District</td>\n",
       "                        <td id=\"T_87d14012_f56b_11ea_a0ed_e86f381bf636row2_col1\" class=\"data row2 col1\" >2,917</td>\n",
       "                        <td id=\"T_87d14012_f56b_11ea_a0ed_e86f381bf636row2_col2\" class=\"data row2 col2\" >$1,910,635</td>\n",
       "                        <td id=\"T_87d14012_f56b_11ea_a0ed_e86f381bf636row2_col3\" class=\"data row2 col3\" >$655.00</td>\n",
       "                        <td id=\"T_87d14012_f56b_11ea_a0ed_e86f381bf636row2_col4\" class=\"data row2 col4\" >76.63%</td>\n",
       "                        <td id=\"T_87d14012_f56b_11ea_a0ed_e86f381bf636row2_col5\" class=\"data row2 col5\" >81.18%</td>\n",
       "                        <td id=\"T_87d14012_f56b_11ea_a0ed_e86f381bf636row2_col6\" class=\"data row2 col6\" >65.68%</td>\n",
       "                        <td id=\"T_87d14012_f56b_11ea_a0ed_e86f381bf636row2_col7\" class=\"data row2 col7\" >81.32%</td>\n",
       "                        <td id=\"T_87d14012_f56b_11ea_a0ed_e86f381bf636row2_col8\" class=\"data row2 col8\" >53.51%</td>\n",
       "            </tr>\n",
       "            <tr>\n",
       "                        <th id=\"T_87d14012_f56b_11ea_a0ed_e86f381bf636level0_row3\" class=\"row_heading level0 row3\" >Hernandez High School</th>\n",
       "                        <td id=\"T_87d14012_f56b_11ea_a0ed_e86f381bf636row3_col0\" class=\"data row3 col0\" >District</td>\n",
       "                        <td id=\"T_87d14012_f56b_11ea_a0ed_e86f381bf636row3_col1\" class=\"data row3 col1\" >4,635</td>\n",
       "                        <td id=\"T_87d14012_f56b_11ea_a0ed_e86f381bf636row3_col2\" class=\"data row3 col2\" >$3,022,020</td>\n",
       "                        <td id=\"T_87d14012_f56b_11ea_a0ed_e86f381bf636row3_col3\" class=\"data row3 col3\" >$652.00</td>\n",
       "                        <td id=\"T_87d14012_f56b_11ea_a0ed_e86f381bf636row3_col4\" class=\"data row3 col4\" >77.29%</td>\n",
       "                        <td id=\"T_87d14012_f56b_11ea_a0ed_e86f381bf636row3_col5\" class=\"data row3 col5\" >80.93%</td>\n",
       "                        <td id=\"T_87d14012_f56b_11ea_a0ed_e86f381bf636row3_col6\" class=\"data row3 col6\" >66.75%</td>\n",
       "                        <td id=\"T_87d14012_f56b_11ea_a0ed_e86f381bf636row3_col7\" class=\"data row3 col7\" >80.86%</td>\n",
       "                        <td id=\"T_87d14012_f56b_11ea_a0ed_e86f381bf636row3_col8\" class=\"data row3 col8\" >53.53%</td>\n",
       "            </tr>\n",
       "            <tr>\n",
       "                        <th id=\"T_87d14012_f56b_11ea_a0ed_e86f381bf636level0_row4\" class=\"row_heading level0 row4\" >Johnson High School</th>\n",
       "                        <td id=\"T_87d14012_f56b_11ea_a0ed_e86f381bf636row4_col0\" class=\"data row4 col0\" >District</td>\n",
       "                        <td id=\"T_87d14012_f56b_11ea_a0ed_e86f381bf636row4_col1\" class=\"data row4 col1\" >4,761</td>\n",
       "                        <td id=\"T_87d14012_f56b_11ea_a0ed_e86f381bf636row4_col2\" class=\"data row4 col2\" >$3,094,650</td>\n",
       "                        <td id=\"T_87d14012_f56b_11ea_a0ed_e86f381bf636row4_col3\" class=\"data row4 col3\" >$650.00</td>\n",
       "                        <td id=\"T_87d14012_f56b_11ea_a0ed_e86f381bf636row4_col4\" class=\"data row4 col4\" >77.07%</td>\n",
       "                        <td id=\"T_87d14012_f56b_11ea_a0ed_e86f381bf636row4_col5\" class=\"data row4 col5\" >80.97%</td>\n",
       "                        <td id=\"T_87d14012_f56b_11ea_a0ed_e86f381bf636row4_col6\" class=\"data row4 col6\" >66.06%</td>\n",
       "                        <td id=\"T_87d14012_f56b_11ea_a0ed_e86f381bf636row4_col7\" class=\"data row4 col7\" >81.22%</td>\n",
       "                        <td id=\"T_87d14012_f56b_11ea_a0ed_e86f381bf636row4_col8\" class=\"data row4 col8\" >53.54%</td>\n",
       "            </tr>\n",
       "    </tbody></table>"
      ],
      "text/plain": [
       "<pandas.io.formats.style.Styler at 0x2481f9aa5c8>"
      ]
     },
     "execution_count": 31,
     "metadata": {},
     "output_type": "execute_result"
    }
   ],
   "source": [
    "# Sort the dataframe to fine the bottom schools\n",
    "bottom_school_summary_with_budget_df = school_summary_with_budget_df.sort_values(\"% Overall Passing\", ascending = True).head(5)\n",
    "\n",
    "\n",
    "# Apply Formatting\n",
    "bottom_school_summary_with_budget_df = bottom_school_summary_with_budget_df.style.format({\"Total Students\" : \"{:,}\",\n",
    "                                                                                          \"Total School Budget\" : \"${:,}\",\n",
    "                                                                                          \"Per Student Budget\" : \"${:.2f}\",\n",
    "                                                                                          \"Average Math Score\" : \"{:.2%}\",\n",
    "                                                                                          \"Average Reading Score\" : \"{:.2%}\",\n",
    "                                                                                          \"% Passing Math\" : \"{:.2%}\",\n",
    "                                                                                          \"% Passing Reading\" : \"{:.2%}\",\n",
    "                                                                                          \"% Overall Passing\" : \"{:.2%}\"                                           \n",
    "                                                                                          })\n",
    "\n",
    "bottom_school_summary_with_budget_df"
   ]
  },
  {
   "cell_type": "markdown",
   "metadata": {},
   "source": [
    "## Math Scores by Grade"
   ]
  },
  {
   "cell_type": "markdown",
   "metadata": {},
   "source": [
    "* Create a table that lists the average Reading Score for students of each grade level (9th, 10th, 11th, 12th) at each school.\n",
    "\n",
    "  * Create a pandas series for each grade. Hint: use a conditional statement.\n",
    "  \n",
    "  * Group each series by school\n",
    "  \n",
    "  * Combine the series into a dataframe\n",
    "  \n",
    "  * Optional: give the displayed data cleaner formatting"
   ]
  },
  {
   "cell_type": "code",
   "execution_count": 32,
   "metadata": {},
   "outputs": [],
   "source": [
    "# Reset the datafame index to use the school name\n",
    "flagged_school_df = flagged_complete_school_df.set_index(\"school_name\")"
   ]
  },
  {
   "cell_type": "code",
   "execution_count": 33,
   "metadata": {},
   "outputs": [],
   "source": [
    "# Create a series for ninth grade math scores\n",
    "nine = flagged_school_df['grade'] == '9th'\n",
    "ninth_grade = flagged_school_df[nine]\n",
    "ninth_grade = ninth_grade['math_score']"
   ]
  },
  {
   "cell_type": "code",
   "execution_count": 34,
   "metadata": {},
   "outputs": [],
   "source": [
    "#Create a DataFrame for ninth grade math scores\n",
    "ninth_grade_df = pd.DataFrame(ninth_grade)"
   ]
  },
  {
   "cell_type": "code",
   "execution_count": 35,
   "metadata": {},
   "outputs": [],
   "source": [
    "# Rename the column name\n",
    "ninth_grade_df.rename(mapper = {'math_score': '9th'}, axis = 'columns', inplace = True)"
   ]
  },
  {
   "cell_type": "code",
   "execution_count": 36,
   "metadata": {},
   "outputs": [],
   "source": [
    "# Group by school\n",
    "ninth_grade_df = ninth_grade_df.groupby(\"school_name\")"
   ]
  },
  {
   "cell_type": "code",
   "execution_count": 37,
   "metadata": {},
   "outputs": [],
   "source": [
    "# Get the average math score by school\n",
    "ninth = ninth_grade_df[\"9th\"].mean()"
   ]
  },
  {
   "cell_type": "code",
   "execution_count": 38,
   "metadata": {},
   "outputs": [],
   "source": [
    "# Recreate the DataFrame summarized by school\n",
    "ninth_grade_df = pd.DataFrame(ninth)"
   ]
  },
  {
   "cell_type": "code",
   "execution_count": 39,
   "metadata": {},
   "outputs": [],
   "source": [
    "# Create a series for tenth grade math scores\n",
    "ten = flagged_school_df['grade'] == '10th'\n",
    "tenth_grade = flagged_school_df[ten]\n",
    "tenth_grade = tenth_grade['math_score']\n"
   ]
  },
  {
   "cell_type": "code",
   "execution_count": 40,
   "metadata": {},
   "outputs": [],
   "source": [
    "# Create a DataFrame for tenth grade math scores\n",
    "tenth_grade_df = pd.DataFrame(tenth_grade)"
   ]
  },
  {
   "cell_type": "code",
   "execution_count": 41,
   "metadata": {},
   "outputs": [],
   "source": [
    "# Rename the column\n",
    "tenth_grade_df.rename(mapper = {\"math_score\" : \"10th\"}, axis = \"columns\", inplace = True)"
   ]
  },
  {
   "cell_type": "code",
   "execution_count": 42,
   "metadata": {},
   "outputs": [],
   "source": [
    "# Group by school\n",
    "tenth_grade_df = tenth_grade_df.groupby(\"school_name\")"
   ]
  },
  {
   "cell_type": "code",
   "execution_count": 43,
   "metadata": {},
   "outputs": [],
   "source": [
    "# Get the average math score by school\n",
    "tenth = tenth_grade_df[\"10th\"].mean()\n"
   ]
  },
  {
   "cell_type": "code",
   "execution_count": 44,
   "metadata": {},
   "outputs": [],
   "source": [
    "# Recreate the DataFrame summarized by school\n",
    "tenth_grade_df = pd.DataFrame(tenth)"
   ]
  },
  {
   "cell_type": "code",
   "execution_count": 45,
   "metadata": {},
   "outputs": [],
   "source": [
    "# Create a series for eleventh grade math scores\n",
    "eleven = flagged_school_df['grade'] == '11th'\n",
    "eleventh_grade = flagged_school_df[eleven]\n",
    "eleventh_grade = eleventh_grade['math_score']"
   ]
  },
  {
   "cell_type": "code",
   "execution_count": 46,
   "metadata": {},
   "outputs": [],
   "source": [
    "# Create a DataFrame for eleventh  grade math scores\n",
    "eleventh_grade_df = pd.DataFrame(eleventh_grade)"
   ]
  },
  {
   "cell_type": "code",
   "execution_count": 47,
   "metadata": {},
   "outputs": [],
   "source": [
    "# Rename the column\n",
    "eleventh_grade_df.rename(mapper = {\"math_score\" : \"11th\"}, axis = \"columns\", inplace = True)"
   ]
  },
  {
   "cell_type": "code",
   "execution_count": 48,
   "metadata": {},
   "outputs": [],
   "source": [
    "# Group by school\n",
    "eleventh_grade_df = eleventh_grade_df.groupby(\"school_name\")"
   ]
  },
  {
   "cell_type": "code",
   "execution_count": 49,
   "metadata": {},
   "outputs": [],
   "source": [
    "# Get the average math score by school\n",
    "eleventh = eleventh_grade_df[\"11th\"].mean()"
   ]
  },
  {
   "cell_type": "code",
   "execution_count": 50,
   "metadata": {},
   "outputs": [],
   "source": [
    "# Recreate the DataFrame summarized by school\n",
    "eleventh_grade_df = pd.DataFrame(eleventh)"
   ]
  },
  {
   "cell_type": "code",
   "execution_count": 51,
   "metadata": {},
   "outputs": [],
   "source": [
    "# Create a series for twelfth grade math scores\n",
    "twelve = flagged_school_df['grade'] == '12th'\n",
    "twelfth_grade = flagged_school_df[twelve]\n",
    "twelfth_grade = twelfth_grade['math_score']"
   ]
  },
  {
   "cell_type": "code",
   "execution_count": 52,
   "metadata": {},
   "outputs": [],
   "source": [
    "# Create a DataFrame for twelfth grade math scores\n",
    "twelfth_grade_df = pd.DataFrame(twelfth_grade)"
   ]
  },
  {
   "cell_type": "code",
   "execution_count": 53,
   "metadata": {},
   "outputs": [],
   "source": [
    "# Rename the column\n",
    "twelfth_grade_df.rename(mapper = {\"math_score\" : \"12th\"}, axis = \"columns\", inplace = True)"
   ]
  },
  {
   "cell_type": "code",
   "execution_count": 54,
   "metadata": {},
   "outputs": [],
   "source": [
    "# Group by school\n",
    "twelfth_grade_df = twelfth_grade_df.groupby(\"school_name\")"
   ]
  },
  {
   "cell_type": "code",
   "execution_count": 55,
   "metadata": {},
   "outputs": [],
   "source": [
    "# Get the average math score by school\n",
    "twelfth = twelfth_grade_df[\"12th\"].mean()"
   ]
  },
  {
   "cell_type": "code",
   "execution_count": 56,
   "metadata": {},
   "outputs": [],
   "source": [
    "# Recreate the DataFrame summarized by school\n",
    "twelfth_grade_df = pd.DataFrame(twelfth)"
   ]
  },
  {
   "cell_type": "code",
   "execution_count": 57,
   "metadata": {},
   "outputs": [],
   "source": [
    "# Join the 9th and 10th grade columns together\n",
    "math_scores_by_grade_df = ninth_grade_df.join(tenth_grade_df)"
   ]
  },
  {
   "cell_type": "code",
   "execution_count": 58,
   "metadata": {},
   "outputs": [],
   "source": [
    "# Join the 11th grade column\n",
    "math_scores_by_grade_df = math_scores_by_grade_df.join(eleventh_grade_df)"
   ]
  },
  {
   "cell_type": "code",
   "execution_count": 59,
   "metadata": {},
   "outputs": [],
   "source": [
    "# Join the 12th grade column\n",
    "math_scores_by_grade_df = math_scores_by_grade_df.join(twelfth_grade_df)"
   ]
  },
  {
   "cell_type": "code",
   "execution_count": 60,
   "metadata": {},
   "outputs": [
    {
     "data": {
      "text/html": [
       "<style  type=\"text/css\" >\n",
       "</style><table id=\"T_87eb1e1c_f56b_11ea_b74c_e86f381bf636\" ><thead>    <tr>        <th class=\"blank level0\" ></th>        <th class=\"col_heading level0 col0\" >9th</th>        <th class=\"col_heading level0 col1\" >10th</th>        <th class=\"col_heading level0 col2\" >11th</th>        <th class=\"col_heading level0 col3\" >12th</th>    </tr>    <tr>        <th class=\"index_name level0\" >school_name</th>        <th class=\"blank\" ></th>        <th class=\"blank\" ></th>        <th class=\"blank\" ></th>        <th class=\"blank\" ></th>    </tr></thead><tbody>\n",
       "                <tr>\n",
       "                        <th id=\"T_87eb1e1c_f56b_11ea_b74c_e86f381bf636level0_row0\" class=\"row_heading level0 row0\" >Bailey High School</th>\n",
       "                        <td id=\"T_87eb1e1c_f56b_11ea_b74c_e86f381bf636row0_col0\" class=\"data row0 col0\" >77.08%</td>\n",
       "                        <td id=\"T_87eb1e1c_f56b_11ea_b74c_e86f381bf636row0_col1\" class=\"data row0 col1\" >77.00%</td>\n",
       "                        <td id=\"T_87eb1e1c_f56b_11ea_b74c_e86f381bf636row0_col2\" class=\"data row0 col2\" >77.52%</td>\n",
       "                        <td id=\"T_87eb1e1c_f56b_11ea_b74c_e86f381bf636row0_col3\" class=\"data row0 col3\" >76.49%</td>\n",
       "            </tr>\n",
       "            <tr>\n",
       "                        <th id=\"T_87eb1e1c_f56b_11ea_b74c_e86f381bf636level0_row1\" class=\"row_heading level0 row1\" >Cabrera High School</th>\n",
       "                        <td id=\"T_87eb1e1c_f56b_11ea_b74c_e86f381bf636row1_col0\" class=\"data row1 col0\" >83.09%</td>\n",
       "                        <td id=\"T_87eb1e1c_f56b_11ea_b74c_e86f381bf636row1_col1\" class=\"data row1 col1\" >83.15%</td>\n",
       "                        <td id=\"T_87eb1e1c_f56b_11ea_b74c_e86f381bf636row1_col2\" class=\"data row1 col2\" >82.77%</td>\n",
       "                        <td id=\"T_87eb1e1c_f56b_11ea_b74c_e86f381bf636row1_col3\" class=\"data row1 col3\" >83.28%</td>\n",
       "            </tr>\n",
       "            <tr>\n",
       "                        <th id=\"T_87eb1e1c_f56b_11ea_b74c_e86f381bf636level0_row2\" class=\"row_heading level0 row2\" >Figueroa High School</th>\n",
       "                        <td id=\"T_87eb1e1c_f56b_11ea_b74c_e86f381bf636row2_col0\" class=\"data row2 col0\" >76.40%</td>\n",
       "                        <td id=\"T_87eb1e1c_f56b_11ea_b74c_e86f381bf636row2_col1\" class=\"data row2 col1\" >76.54%</td>\n",
       "                        <td id=\"T_87eb1e1c_f56b_11ea_b74c_e86f381bf636row2_col2\" class=\"data row2 col2\" >76.88%</td>\n",
       "                        <td id=\"T_87eb1e1c_f56b_11ea_b74c_e86f381bf636row2_col3\" class=\"data row2 col3\" >77.15%</td>\n",
       "            </tr>\n",
       "            <tr>\n",
       "                        <th id=\"T_87eb1e1c_f56b_11ea_b74c_e86f381bf636level0_row3\" class=\"row_heading level0 row3\" >Ford High School</th>\n",
       "                        <td id=\"T_87eb1e1c_f56b_11ea_b74c_e86f381bf636row3_col0\" class=\"data row3 col0\" >77.36%</td>\n",
       "                        <td id=\"T_87eb1e1c_f56b_11ea_b74c_e86f381bf636row3_col1\" class=\"data row3 col1\" >77.67%</td>\n",
       "                        <td id=\"T_87eb1e1c_f56b_11ea_b74c_e86f381bf636row3_col2\" class=\"data row3 col2\" >76.92%</td>\n",
       "                        <td id=\"T_87eb1e1c_f56b_11ea_b74c_e86f381bf636row3_col3\" class=\"data row3 col3\" >76.18%</td>\n",
       "            </tr>\n",
       "            <tr>\n",
       "                        <th id=\"T_87eb1e1c_f56b_11ea_b74c_e86f381bf636level0_row4\" class=\"row_heading level0 row4\" >Griffin High School</th>\n",
       "                        <td id=\"T_87eb1e1c_f56b_11ea_b74c_e86f381bf636row4_col0\" class=\"data row4 col0\" >82.04%</td>\n",
       "                        <td id=\"T_87eb1e1c_f56b_11ea_b74c_e86f381bf636row4_col1\" class=\"data row4 col1\" >84.23%</td>\n",
       "                        <td id=\"T_87eb1e1c_f56b_11ea_b74c_e86f381bf636row4_col2\" class=\"data row4 col2\" >83.84%</td>\n",
       "                        <td id=\"T_87eb1e1c_f56b_11ea_b74c_e86f381bf636row4_col3\" class=\"data row4 col3\" >83.36%</td>\n",
       "            </tr>\n",
       "            <tr>\n",
       "                        <th id=\"T_87eb1e1c_f56b_11ea_b74c_e86f381bf636level0_row5\" class=\"row_heading level0 row5\" >Hernandez High School</th>\n",
       "                        <td id=\"T_87eb1e1c_f56b_11ea_b74c_e86f381bf636row5_col0\" class=\"data row5 col0\" >77.44%</td>\n",
       "                        <td id=\"T_87eb1e1c_f56b_11ea_b74c_e86f381bf636row5_col1\" class=\"data row5 col1\" >77.34%</td>\n",
       "                        <td id=\"T_87eb1e1c_f56b_11ea_b74c_e86f381bf636row5_col2\" class=\"data row5 col2\" >77.14%</td>\n",
       "                        <td id=\"T_87eb1e1c_f56b_11ea_b74c_e86f381bf636row5_col3\" class=\"data row5 col3\" >77.19%</td>\n",
       "            </tr>\n",
       "            <tr>\n",
       "                        <th id=\"T_87eb1e1c_f56b_11ea_b74c_e86f381bf636level0_row6\" class=\"row_heading level0 row6\" >Holden High School</th>\n",
       "                        <td id=\"T_87eb1e1c_f56b_11ea_b74c_e86f381bf636row6_col0\" class=\"data row6 col0\" >83.79%</td>\n",
       "                        <td id=\"T_87eb1e1c_f56b_11ea_b74c_e86f381bf636row6_col1\" class=\"data row6 col1\" >83.43%</td>\n",
       "                        <td id=\"T_87eb1e1c_f56b_11ea_b74c_e86f381bf636row6_col2\" class=\"data row6 col2\" >85.00%</td>\n",
       "                        <td id=\"T_87eb1e1c_f56b_11ea_b74c_e86f381bf636row6_col3\" class=\"data row6 col3\" >82.86%</td>\n",
       "            </tr>\n",
       "            <tr>\n",
       "                        <th id=\"T_87eb1e1c_f56b_11ea_b74c_e86f381bf636level0_row7\" class=\"row_heading level0 row7\" >Huang High School</th>\n",
       "                        <td id=\"T_87eb1e1c_f56b_11ea_b74c_e86f381bf636row7_col0\" class=\"data row7 col0\" >77.03%</td>\n",
       "                        <td id=\"T_87eb1e1c_f56b_11ea_b74c_e86f381bf636row7_col1\" class=\"data row7 col1\" >75.91%</td>\n",
       "                        <td id=\"T_87eb1e1c_f56b_11ea_b74c_e86f381bf636row7_col2\" class=\"data row7 col2\" >76.45%</td>\n",
       "                        <td id=\"T_87eb1e1c_f56b_11ea_b74c_e86f381bf636row7_col3\" class=\"data row7 col3\" >77.23%</td>\n",
       "            </tr>\n",
       "            <tr>\n",
       "                        <th id=\"T_87eb1e1c_f56b_11ea_b74c_e86f381bf636level0_row8\" class=\"row_heading level0 row8\" >Johnson High School</th>\n",
       "                        <td id=\"T_87eb1e1c_f56b_11ea_b74c_e86f381bf636row8_col0\" class=\"data row8 col0\" >77.19%</td>\n",
       "                        <td id=\"T_87eb1e1c_f56b_11ea_b74c_e86f381bf636row8_col1\" class=\"data row8 col1\" >76.69%</td>\n",
       "                        <td id=\"T_87eb1e1c_f56b_11ea_b74c_e86f381bf636row8_col2\" class=\"data row8 col2\" >77.49%</td>\n",
       "                        <td id=\"T_87eb1e1c_f56b_11ea_b74c_e86f381bf636row8_col3\" class=\"data row8 col3\" >76.86%</td>\n",
       "            </tr>\n",
       "            <tr>\n",
       "                        <th id=\"T_87eb1e1c_f56b_11ea_b74c_e86f381bf636level0_row9\" class=\"row_heading level0 row9\" >Pena High School</th>\n",
       "                        <td id=\"T_87eb1e1c_f56b_11ea_b74c_e86f381bf636row9_col0\" class=\"data row9 col0\" >83.63%</td>\n",
       "                        <td id=\"T_87eb1e1c_f56b_11ea_b74c_e86f381bf636row9_col1\" class=\"data row9 col1\" >83.37%</td>\n",
       "                        <td id=\"T_87eb1e1c_f56b_11ea_b74c_e86f381bf636row9_col2\" class=\"data row9 col2\" >84.33%</td>\n",
       "                        <td id=\"T_87eb1e1c_f56b_11ea_b74c_e86f381bf636row9_col3\" class=\"data row9 col3\" >84.12%</td>\n",
       "            </tr>\n",
       "            <tr>\n",
       "                        <th id=\"T_87eb1e1c_f56b_11ea_b74c_e86f381bf636level0_row10\" class=\"row_heading level0 row10\" >Rodriguez High School</th>\n",
       "                        <td id=\"T_87eb1e1c_f56b_11ea_b74c_e86f381bf636row10_col0\" class=\"data row10 col0\" >76.86%</td>\n",
       "                        <td id=\"T_87eb1e1c_f56b_11ea_b74c_e86f381bf636row10_col1\" class=\"data row10 col1\" >76.61%</td>\n",
       "                        <td id=\"T_87eb1e1c_f56b_11ea_b74c_e86f381bf636row10_col2\" class=\"data row10 col2\" >76.40%</td>\n",
       "                        <td id=\"T_87eb1e1c_f56b_11ea_b74c_e86f381bf636row10_col3\" class=\"data row10 col3\" >77.69%</td>\n",
       "            </tr>\n",
       "            <tr>\n",
       "                        <th id=\"T_87eb1e1c_f56b_11ea_b74c_e86f381bf636level0_row11\" class=\"row_heading level0 row11\" >Shelton High School</th>\n",
       "                        <td id=\"T_87eb1e1c_f56b_11ea_b74c_e86f381bf636row11_col0\" class=\"data row11 col0\" >83.42%</td>\n",
       "                        <td id=\"T_87eb1e1c_f56b_11ea_b74c_e86f381bf636row11_col1\" class=\"data row11 col1\" >82.92%</td>\n",
       "                        <td id=\"T_87eb1e1c_f56b_11ea_b74c_e86f381bf636row11_col2\" class=\"data row11 col2\" >83.38%</td>\n",
       "                        <td id=\"T_87eb1e1c_f56b_11ea_b74c_e86f381bf636row11_col3\" class=\"data row11 col3\" >83.78%</td>\n",
       "            </tr>\n",
       "            <tr>\n",
       "                        <th id=\"T_87eb1e1c_f56b_11ea_b74c_e86f381bf636level0_row12\" class=\"row_heading level0 row12\" >Thomas High School</th>\n",
       "                        <td id=\"T_87eb1e1c_f56b_11ea_b74c_e86f381bf636row12_col0\" class=\"data row12 col0\" >83.59%</td>\n",
       "                        <td id=\"T_87eb1e1c_f56b_11ea_b74c_e86f381bf636row12_col1\" class=\"data row12 col1\" >83.09%</td>\n",
       "                        <td id=\"T_87eb1e1c_f56b_11ea_b74c_e86f381bf636row12_col2\" class=\"data row12 col2\" >83.50%</td>\n",
       "                        <td id=\"T_87eb1e1c_f56b_11ea_b74c_e86f381bf636row12_col3\" class=\"data row12 col3\" >83.50%</td>\n",
       "            </tr>\n",
       "            <tr>\n",
       "                        <th id=\"T_87eb1e1c_f56b_11ea_b74c_e86f381bf636level0_row13\" class=\"row_heading level0 row13\" >Wilson High School</th>\n",
       "                        <td id=\"T_87eb1e1c_f56b_11ea_b74c_e86f381bf636row13_col0\" class=\"data row13 col0\" >83.09%</td>\n",
       "                        <td id=\"T_87eb1e1c_f56b_11ea_b74c_e86f381bf636row13_col1\" class=\"data row13 col1\" >83.72%</td>\n",
       "                        <td id=\"T_87eb1e1c_f56b_11ea_b74c_e86f381bf636row13_col2\" class=\"data row13 col2\" >83.20%</td>\n",
       "                        <td id=\"T_87eb1e1c_f56b_11ea_b74c_e86f381bf636row13_col3\" class=\"data row13 col3\" >83.04%</td>\n",
       "            </tr>\n",
       "            <tr>\n",
       "                        <th id=\"T_87eb1e1c_f56b_11ea_b74c_e86f381bf636level0_row14\" class=\"row_heading level0 row14\" >Wright High School</th>\n",
       "                        <td id=\"T_87eb1e1c_f56b_11ea_b74c_e86f381bf636row14_col0\" class=\"data row14 col0\" >83.26%</td>\n",
       "                        <td id=\"T_87eb1e1c_f56b_11ea_b74c_e86f381bf636row14_col1\" class=\"data row14 col1\" >84.01%</td>\n",
       "                        <td id=\"T_87eb1e1c_f56b_11ea_b74c_e86f381bf636row14_col2\" class=\"data row14 col2\" >83.84%</td>\n",
       "                        <td id=\"T_87eb1e1c_f56b_11ea_b74c_e86f381bf636row14_col3\" class=\"data row14 col3\" >83.64%</td>\n",
       "            </tr>\n",
       "    </tbody></table>"
      ],
      "text/plain": [
       "<pandas.io.formats.style.Styler at 0x2481ff98f48>"
      ]
     },
     "execution_count": 60,
     "metadata": {},
     "output_type": "execute_result"
    }
   ],
   "source": [
    "math_scores_by_grade_df = math_scores_by_grade_df[[\"9th\", \"10th\", \"11th\", \"12th\"]] / 100\n",
    "math_scores_by_grade_df = math_scores_by_grade_df.style.format('{:.2%}')     \n",
    "math_scores_by_grade_df"
   ]
  },
  {
   "cell_type": "markdown",
   "metadata": {},
   "source": [
    "## Reading Scores by Grade"
   ]
  },
  {
   "cell_type": "code",
   "execution_count": 61,
   "metadata": {},
   "outputs": [],
   "source": [
    "# Create a series for ninth grade reading scores\n",
    "nine = flagged_school_df['grade'] == '9th'\n",
    "ninth_grade = flagged_school_df[nine]\n",
    "ninth_grade = ninth_grade['reading_score']"
   ]
  },
  {
   "cell_type": "code",
   "execution_count": 62,
   "metadata": {},
   "outputs": [],
   "source": [
    "#Create a DataFrame for ninth grade reading scores\n",
    "ninth_grade_df = pd.DataFrame(ninth_grade)"
   ]
  },
  {
   "cell_type": "code",
   "execution_count": 63,
   "metadata": {},
   "outputs": [],
   "source": [
    "# Rename the column name\n",
    "ninth_grade_df.rename(mapper = {'reading_score': '9th'}, axis = 'columns', inplace = True)"
   ]
  },
  {
   "cell_type": "code",
   "execution_count": 64,
   "metadata": {},
   "outputs": [],
   "source": [
    "# Group by school\n",
    "ninth_grade_df = ninth_grade_df.groupby(\"school_name\")"
   ]
  },
  {
   "cell_type": "code",
   "execution_count": 65,
   "metadata": {},
   "outputs": [],
   "source": [
    "# Get the average reading score by school\n",
    "ninth = ninth_grade_df[\"9th\"].mean()"
   ]
  },
  {
   "cell_type": "code",
   "execution_count": 66,
   "metadata": {},
   "outputs": [],
   "source": [
    "# Recreate the DataFrame summarized by school\n",
    "ninth_grade_df = pd.DataFrame(ninth)"
   ]
  },
  {
   "cell_type": "code",
   "execution_count": 67,
   "metadata": {},
   "outputs": [],
   "source": [
    "# Create a series for tenth grade reading scores\n",
    "ten = flagged_school_df['grade'] == '10th'\n",
    "tenth_grade = flagged_school_df[ten]\n",
    "tenth_grade = tenth_grade['reading_score']"
   ]
  },
  {
   "cell_type": "code",
   "execution_count": 68,
   "metadata": {},
   "outputs": [],
   "source": [
    "# Create a DataFrame for tenth grade reading scores\n",
    "tenth_grade_df = pd.DataFrame(tenth_grade)"
   ]
  },
  {
   "cell_type": "code",
   "execution_count": 69,
   "metadata": {},
   "outputs": [],
   "source": [
    "# Rename the column\n",
    "tenth_grade_df.rename(mapper = {\"reading_score\" : \"10th\"}, axis = \"columns\", inplace = True)"
   ]
  },
  {
   "cell_type": "code",
   "execution_count": 70,
   "metadata": {},
   "outputs": [],
   "source": [
    "# Group by school\n",
    "tenth_grade_df = tenth_grade_df.groupby(\"school_name\")"
   ]
  },
  {
   "cell_type": "code",
   "execution_count": 71,
   "metadata": {},
   "outputs": [],
   "source": [
    "# Get the average reading score by school\n",
    "tenth = tenth_grade_df[\"10th\"].mean()"
   ]
  },
  {
   "cell_type": "code",
   "execution_count": 72,
   "metadata": {},
   "outputs": [],
   "source": [
    "# Recreate the DataFrame summarized by school\n",
    "tenth_grade_df = pd.DataFrame(tenth)"
   ]
  },
  {
   "cell_type": "code",
   "execution_count": 73,
   "metadata": {},
   "outputs": [],
   "source": [
    "# Create a series for eleventh grade reading scores\n",
    "eleven = flagged_school_df['grade'] == '11th'\n",
    "eleventh_grade = flagged_school_df[eleven]\n",
    "eleventh_grade = eleventh_grade['reading_score']"
   ]
  },
  {
   "cell_type": "code",
   "execution_count": 74,
   "metadata": {},
   "outputs": [],
   "source": [
    "# Create a DataFrame for eleventh  grade reading scores\n",
    "eleventh_grade_df = pd.DataFrame(eleventh_grade)"
   ]
  },
  {
   "cell_type": "code",
   "execution_count": 75,
   "metadata": {},
   "outputs": [],
   "source": [
    "# Rename the column\n",
    "eleventh_grade_df.rename(mapper = {\"reading_score\" : \"11th\"}, axis = \"columns\", inplace = True)"
   ]
  },
  {
   "cell_type": "code",
   "execution_count": 76,
   "metadata": {},
   "outputs": [],
   "source": [
    "# Group by school\n",
    "eleventh_grade_df = eleventh_grade_df.groupby(\"school_name\")"
   ]
  },
  {
   "cell_type": "code",
   "execution_count": 77,
   "metadata": {},
   "outputs": [],
   "source": [
    "# Get the average reading score by school\n",
    "eleventh = eleventh_grade_df[\"11th\"].mean()"
   ]
  },
  {
   "cell_type": "code",
   "execution_count": 78,
   "metadata": {},
   "outputs": [],
   "source": [
    "# Recreate the DataFrame summarized by school\n",
    "eleventh_grade_df = pd.DataFrame(eleventh)"
   ]
  },
  {
   "cell_type": "code",
   "execution_count": 79,
   "metadata": {},
   "outputs": [],
   "source": [
    "# Create a series for twelfth grade reading scores\n",
    "twelve = flagged_school_df['grade'] == '12th'\n",
    "twelfth_grade = flagged_school_df[twelve]\n",
    "twelfth_grade = twelfth_grade['reading_score']"
   ]
  },
  {
   "cell_type": "code",
   "execution_count": 80,
   "metadata": {},
   "outputs": [],
   "source": [
    "# Create a DataFrame for twelfth grade reading scores\n",
    "twelfth_grade_df = pd.DataFrame(twelfth_grade)"
   ]
  },
  {
   "cell_type": "code",
   "execution_count": 81,
   "metadata": {},
   "outputs": [],
   "source": [
    "# Rename the column\n",
    "twelfth_grade_df.rename(mapper = {\"reading_score\" : \"12th\"}, axis = \"columns\", inplace = True)"
   ]
  },
  {
   "cell_type": "code",
   "execution_count": 82,
   "metadata": {},
   "outputs": [],
   "source": [
    "# Group by school\n",
    "twelfth_grade_df = twelfth_grade_df.groupby(\"school_name\")"
   ]
  },
  {
   "cell_type": "code",
   "execution_count": 83,
   "metadata": {},
   "outputs": [],
   "source": [
    "# Get the average reading score by school\n",
    "twelfth = twelfth_grade_df[\"12th\"].mean()"
   ]
  },
  {
   "cell_type": "code",
   "execution_count": 84,
   "metadata": {},
   "outputs": [],
   "source": [
    "# Recreate the DataFrame summarized by school\n",
    "twelfth_grade_df = pd.DataFrame(twelfth)"
   ]
  },
  {
   "cell_type": "code",
   "execution_count": 85,
   "metadata": {},
   "outputs": [],
   "source": [
    "# Join the 9th and 10th grade columns together\n",
    "reading_scores_by_grade_df = ninth_grade_df.join(tenth_grade_df)"
   ]
  },
  {
   "cell_type": "code",
   "execution_count": 86,
   "metadata": {},
   "outputs": [],
   "source": [
    "# Join the 11th grade column\n",
    "reading_scores_by_grade_df = reading_scores_by_grade_df.join(eleventh_grade_df)"
   ]
  },
  {
   "cell_type": "code",
   "execution_count": 87,
   "metadata": {},
   "outputs": [],
   "source": [
    "# Join the 12th grade column\n",
    "reading_scores_by_grade_df = reading_scores_by_grade_df.join(twelfth_grade_df)"
   ]
  },
  {
   "cell_type": "code",
   "execution_count": 88,
   "metadata": {},
   "outputs": [
    {
     "data": {
      "text/html": [
       "<style  type=\"text/css\" >\n",
       "</style><table id=\"T_88043d06_f56b_11ea_8df7_e86f381bf636\" ><thead>    <tr>        <th class=\"blank level0\" ></th>        <th class=\"col_heading level0 col0\" >9th</th>        <th class=\"col_heading level0 col1\" >10th</th>        <th class=\"col_heading level0 col2\" >11th</th>        <th class=\"col_heading level0 col3\" >12th</th>    </tr>    <tr>        <th class=\"index_name level0\" >school_name</th>        <th class=\"blank\" ></th>        <th class=\"blank\" ></th>        <th class=\"blank\" ></th>        <th class=\"blank\" ></th>    </tr></thead><tbody>\n",
       "                <tr>\n",
       "                        <th id=\"T_88043d06_f56b_11ea_8df7_e86f381bf636level0_row0\" class=\"row_heading level0 row0\" >Bailey High School</th>\n",
       "                        <td id=\"T_88043d06_f56b_11ea_8df7_e86f381bf636row0_col0\" class=\"data row0 col0\" >81.30%</td>\n",
       "                        <td id=\"T_88043d06_f56b_11ea_8df7_e86f381bf636row0_col1\" class=\"data row0 col1\" >80.91%</td>\n",
       "                        <td id=\"T_88043d06_f56b_11ea_8df7_e86f381bf636row0_col2\" class=\"data row0 col2\" >80.95%</td>\n",
       "                        <td id=\"T_88043d06_f56b_11ea_8df7_e86f381bf636row0_col3\" class=\"data row0 col3\" >80.91%</td>\n",
       "            </tr>\n",
       "            <tr>\n",
       "                        <th id=\"T_88043d06_f56b_11ea_8df7_e86f381bf636level0_row1\" class=\"row_heading level0 row1\" >Cabrera High School</th>\n",
       "                        <td id=\"T_88043d06_f56b_11ea_8df7_e86f381bf636row1_col0\" class=\"data row1 col0\" >83.68%</td>\n",
       "                        <td id=\"T_88043d06_f56b_11ea_8df7_e86f381bf636row1_col1\" class=\"data row1 col1\" >84.25%</td>\n",
       "                        <td id=\"T_88043d06_f56b_11ea_8df7_e86f381bf636row1_col2\" class=\"data row1 col2\" >83.79%</td>\n",
       "                        <td id=\"T_88043d06_f56b_11ea_8df7_e86f381bf636row1_col3\" class=\"data row1 col3\" >84.29%</td>\n",
       "            </tr>\n",
       "            <tr>\n",
       "                        <th id=\"T_88043d06_f56b_11ea_8df7_e86f381bf636level0_row2\" class=\"row_heading level0 row2\" >Figueroa High School</th>\n",
       "                        <td id=\"T_88043d06_f56b_11ea_8df7_e86f381bf636row2_col0\" class=\"data row2 col0\" >81.20%</td>\n",
       "                        <td id=\"T_88043d06_f56b_11ea_8df7_e86f381bf636row2_col1\" class=\"data row2 col1\" >81.41%</td>\n",
       "                        <td id=\"T_88043d06_f56b_11ea_8df7_e86f381bf636row2_col2\" class=\"data row2 col2\" >80.64%</td>\n",
       "                        <td id=\"T_88043d06_f56b_11ea_8df7_e86f381bf636row2_col3\" class=\"data row2 col3\" >81.38%</td>\n",
       "            </tr>\n",
       "            <tr>\n",
       "                        <th id=\"T_88043d06_f56b_11ea_8df7_e86f381bf636level0_row3\" class=\"row_heading level0 row3\" >Ford High School</th>\n",
       "                        <td id=\"T_88043d06_f56b_11ea_8df7_e86f381bf636row3_col0\" class=\"data row3 col0\" >80.63%</td>\n",
       "                        <td id=\"T_88043d06_f56b_11ea_8df7_e86f381bf636row3_col1\" class=\"data row3 col1\" >81.26%</td>\n",
       "                        <td id=\"T_88043d06_f56b_11ea_8df7_e86f381bf636row3_col2\" class=\"data row3 col2\" >80.40%</td>\n",
       "                        <td id=\"T_88043d06_f56b_11ea_8df7_e86f381bf636row3_col3\" class=\"data row3 col3\" >80.66%</td>\n",
       "            </tr>\n",
       "            <tr>\n",
       "                        <th id=\"T_88043d06_f56b_11ea_8df7_e86f381bf636level0_row4\" class=\"row_heading level0 row4\" >Griffin High School</th>\n",
       "                        <td id=\"T_88043d06_f56b_11ea_8df7_e86f381bf636row4_col0\" class=\"data row4 col0\" >83.37%</td>\n",
       "                        <td id=\"T_88043d06_f56b_11ea_8df7_e86f381bf636row4_col1\" class=\"data row4 col1\" >83.71%</td>\n",
       "                        <td id=\"T_88043d06_f56b_11ea_8df7_e86f381bf636row4_col2\" class=\"data row4 col2\" >84.29%</td>\n",
       "                        <td id=\"T_88043d06_f56b_11ea_8df7_e86f381bf636row4_col3\" class=\"data row4 col3\" >84.01%</td>\n",
       "            </tr>\n",
       "            <tr>\n",
       "                        <th id=\"T_88043d06_f56b_11ea_8df7_e86f381bf636level0_row5\" class=\"row_heading level0 row5\" >Hernandez High School</th>\n",
       "                        <td id=\"T_88043d06_f56b_11ea_8df7_e86f381bf636row5_col0\" class=\"data row5 col0\" >80.87%</td>\n",
       "                        <td id=\"T_88043d06_f56b_11ea_8df7_e86f381bf636row5_col1\" class=\"data row5 col1\" >80.66%</td>\n",
       "                        <td id=\"T_88043d06_f56b_11ea_8df7_e86f381bf636row5_col2\" class=\"data row5 col2\" >81.40%</td>\n",
       "                        <td id=\"T_88043d06_f56b_11ea_8df7_e86f381bf636row5_col3\" class=\"data row5 col3\" >80.86%</td>\n",
       "            </tr>\n",
       "            <tr>\n",
       "                        <th id=\"T_88043d06_f56b_11ea_8df7_e86f381bf636level0_row6\" class=\"row_heading level0 row6\" >Holden High School</th>\n",
       "                        <td id=\"T_88043d06_f56b_11ea_8df7_e86f381bf636row6_col0\" class=\"data row6 col0\" >83.68%</td>\n",
       "                        <td id=\"T_88043d06_f56b_11ea_8df7_e86f381bf636row6_col1\" class=\"data row6 col1\" >83.32%</td>\n",
       "                        <td id=\"T_88043d06_f56b_11ea_8df7_e86f381bf636row6_col2\" class=\"data row6 col2\" >83.82%</td>\n",
       "                        <td id=\"T_88043d06_f56b_11ea_8df7_e86f381bf636row6_col3\" class=\"data row6 col3\" >84.70%</td>\n",
       "            </tr>\n",
       "            <tr>\n",
       "                        <th id=\"T_88043d06_f56b_11ea_8df7_e86f381bf636level0_row7\" class=\"row_heading level0 row7\" >Huang High School</th>\n",
       "                        <td id=\"T_88043d06_f56b_11ea_8df7_e86f381bf636row7_col0\" class=\"data row7 col0\" >81.29%</td>\n",
       "                        <td id=\"T_88043d06_f56b_11ea_8df7_e86f381bf636row7_col1\" class=\"data row7 col1\" >81.51%</td>\n",
       "                        <td id=\"T_88043d06_f56b_11ea_8df7_e86f381bf636row7_col2\" class=\"data row7 col2\" >81.42%</td>\n",
       "                        <td id=\"T_88043d06_f56b_11ea_8df7_e86f381bf636row7_col3\" class=\"data row7 col3\" >80.31%</td>\n",
       "            </tr>\n",
       "            <tr>\n",
       "                        <th id=\"T_88043d06_f56b_11ea_8df7_e86f381bf636level0_row8\" class=\"row_heading level0 row8\" >Johnson High School</th>\n",
       "                        <td id=\"T_88043d06_f56b_11ea_8df7_e86f381bf636row8_col0\" class=\"data row8 col0\" >81.26%</td>\n",
       "                        <td id=\"T_88043d06_f56b_11ea_8df7_e86f381bf636row8_col1\" class=\"data row8 col1\" >80.77%</td>\n",
       "                        <td id=\"T_88043d06_f56b_11ea_8df7_e86f381bf636row8_col2\" class=\"data row8 col2\" >80.62%</td>\n",
       "                        <td id=\"T_88043d06_f56b_11ea_8df7_e86f381bf636row8_col3\" class=\"data row8 col3\" >81.23%</td>\n",
       "            </tr>\n",
       "            <tr>\n",
       "                        <th id=\"T_88043d06_f56b_11ea_8df7_e86f381bf636level0_row9\" class=\"row_heading level0 row9\" >Pena High School</th>\n",
       "                        <td id=\"T_88043d06_f56b_11ea_8df7_e86f381bf636row9_col0\" class=\"data row9 col0\" >83.81%</td>\n",
       "                        <td id=\"T_88043d06_f56b_11ea_8df7_e86f381bf636row9_col1\" class=\"data row9 col1\" >83.61%</td>\n",
       "                        <td id=\"T_88043d06_f56b_11ea_8df7_e86f381bf636row9_col2\" class=\"data row9 col2\" >84.34%</td>\n",
       "                        <td id=\"T_88043d06_f56b_11ea_8df7_e86f381bf636row9_col3\" class=\"data row9 col3\" >84.59%</td>\n",
       "            </tr>\n",
       "            <tr>\n",
       "                        <th id=\"T_88043d06_f56b_11ea_8df7_e86f381bf636level0_row10\" class=\"row_heading level0 row10\" >Rodriguez High School</th>\n",
       "                        <td id=\"T_88043d06_f56b_11ea_8df7_e86f381bf636row10_col0\" class=\"data row10 col0\" >80.99%</td>\n",
       "                        <td id=\"T_88043d06_f56b_11ea_8df7_e86f381bf636row10_col1\" class=\"data row10 col1\" >80.63%</td>\n",
       "                        <td id=\"T_88043d06_f56b_11ea_8df7_e86f381bf636row10_col2\" class=\"data row10 col2\" >80.86%</td>\n",
       "                        <td id=\"T_88043d06_f56b_11ea_8df7_e86f381bf636row10_col3\" class=\"data row10 col3\" >80.38%</td>\n",
       "            </tr>\n",
       "            <tr>\n",
       "                        <th id=\"T_88043d06_f56b_11ea_8df7_e86f381bf636level0_row11\" class=\"row_heading level0 row11\" >Shelton High School</th>\n",
       "                        <td id=\"T_88043d06_f56b_11ea_8df7_e86f381bf636row11_col0\" class=\"data row11 col0\" >84.12%</td>\n",
       "                        <td id=\"T_88043d06_f56b_11ea_8df7_e86f381bf636row11_col1\" class=\"data row11 col1\" >83.44%</td>\n",
       "                        <td id=\"T_88043d06_f56b_11ea_8df7_e86f381bf636row11_col2\" class=\"data row11 col2\" >84.37%</td>\n",
       "                        <td id=\"T_88043d06_f56b_11ea_8df7_e86f381bf636row11_col3\" class=\"data row11 col3\" >82.78%</td>\n",
       "            </tr>\n",
       "            <tr>\n",
       "                        <th id=\"T_88043d06_f56b_11ea_8df7_e86f381bf636level0_row12\" class=\"row_heading level0 row12\" >Thomas High School</th>\n",
       "                        <td id=\"T_88043d06_f56b_11ea_8df7_e86f381bf636row12_col0\" class=\"data row12 col0\" >83.73%</td>\n",
       "                        <td id=\"T_88043d06_f56b_11ea_8df7_e86f381bf636row12_col1\" class=\"data row12 col1\" >84.25%</td>\n",
       "                        <td id=\"T_88043d06_f56b_11ea_8df7_e86f381bf636row12_col2\" class=\"data row12 col2\" >83.59%</td>\n",
       "                        <td id=\"T_88043d06_f56b_11ea_8df7_e86f381bf636row12_col3\" class=\"data row12 col3\" >83.83%</td>\n",
       "            </tr>\n",
       "            <tr>\n",
       "                        <th id=\"T_88043d06_f56b_11ea_8df7_e86f381bf636level0_row13\" class=\"row_heading level0 row13\" >Wilson High School</th>\n",
       "                        <td id=\"T_88043d06_f56b_11ea_8df7_e86f381bf636row13_col0\" class=\"data row13 col0\" >83.94%</td>\n",
       "                        <td id=\"T_88043d06_f56b_11ea_8df7_e86f381bf636row13_col1\" class=\"data row13 col1\" >84.02%</td>\n",
       "                        <td id=\"T_88043d06_f56b_11ea_8df7_e86f381bf636row13_col2\" class=\"data row13 col2\" >83.76%</td>\n",
       "                        <td id=\"T_88043d06_f56b_11ea_8df7_e86f381bf636row13_col3\" class=\"data row13 col3\" >84.32%</td>\n",
       "            </tr>\n",
       "            <tr>\n",
       "                        <th id=\"T_88043d06_f56b_11ea_8df7_e86f381bf636level0_row14\" class=\"row_heading level0 row14\" >Wright High School</th>\n",
       "                        <td id=\"T_88043d06_f56b_11ea_8df7_e86f381bf636row14_col0\" class=\"data row14 col0\" >83.83%</td>\n",
       "                        <td id=\"T_88043d06_f56b_11ea_8df7_e86f381bf636row14_col1\" class=\"data row14 col1\" >83.81%</td>\n",
       "                        <td id=\"T_88043d06_f56b_11ea_8df7_e86f381bf636row14_col2\" class=\"data row14 col2\" >84.16%</td>\n",
       "                        <td id=\"T_88043d06_f56b_11ea_8df7_e86f381bf636row14_col3\" class=\"data row14 col3\" >84.07%</td>\n",
       "            </tr>\n",
       "    </tbody></table>"
      ],
      "text/plain": [
       "<pandas.io.formats.style.Styler at 0x2481ffb6208>"
      ]
     },
     "execution_count": 88,
     "metadata": {},
     "output_type": "execute_result"
    }
   ],
   "source": [
    "reading_scores_by_grade_df = reading_scores_by_grade_df[[\"9th\", \"10th\", \"11th\", \"12th\"]] / 100\n",
    "reading_scores_by_grade_df = reading_scores_by_grade_df.style.format('{:.2%}')     \n",
    "reading_scores_by_grade_df"
   ]
  },
  {
   "cell_type": "markdown",
   "metadata": {},
   "source": [
    "## Scores by School Spending"
   ]
  },
  {
   "cell_type": "markdown",
   "metadata": {},
   "source": [
    "* Create a table that breaks down school performances based on average Spending Ranges (Per Student). Use 4 reasonable bins to group school spending. Include in the table each of the following:\n",
    "  * Average Math Score\n",
    "  * Average Reading Score\n",
    "  * % Passing Math\n",
    "  * % Passing Reading\n",
    "  * Overall Passing Rate (Average of the above two)"
   ]
  },
  {
   "cell_type": "code",
   "execution_count": 89,
   "metadata": {},
   "outputs": [],
   "source": [
    "# Define a function that will create a spending range based on the budget per student\n",
    "def spending_range(num1):\n",
    "    if num1 >= 645:\n",
    "        sp_range = \"$645-675\"\n",
    "    elif num1 >= 630:\n",
    "        sp_range = \"$630-644\"\n",
    "    elif num1 >= 585:\n",
    "        sp_range = \"$585-629\"\n",
    "    else:\n",
    "        sp_range = \"<$584\"\n",
    "        \n",
    "    return sp_range"
   ]
  },
  {
   "cell_type": "code",
   "execution_count": 90,
   "metadata": {},
   "outputs": [],
   "source": [
    "# Use the existing df and give it a new name with the new columns\n",
    "school_scores_df = flagged_school_df"
   ]
  },
  {
   "cell_type": "code",
   "execution_count": 91,
   "metadata": {},
   "outputs": [],
   "source": [
    "# Calculate the budget per school\n",
    "budget_per_school = school_scores_df[\"budget\"] / school_scores_df[\"size\"]\n",
    "\n",
    "# Add 2 new columns to the dataframe and populuate the values\n",
    "school_scores_df[\"Spending\"] = budget_per_school\n",
    "school_scores_df[\"Spending Category\"] = school_scores_df[\"Spending\"].apply(spending_range)\n"
   ]
  },
  {
   "cell_type": "code",
   "execution_count": 92,
   "metadata": {},
   "outputs": [],
   "source": [
    "# Group the dataframe by the new spending category created above\n",
    "spending_category_df = school_scores_df.groupby(\"Spending Category\")"
   ]
  },
  {
   "cell_type": "code",
   "execution_count": 93,
   "metadata": {},
   "outputs": [],
   "source": [
    "# Calculate total students per category\n",
    "total_students_per_category = spending_category_df[\"Spending Category\"].count()\n",
    "\n",
    "# Calculate the average math score\n",
    "avg_math_score = spending_category_df[\"math_score\"].mean()\n",
    "\n",
    "# Calculate the average reading score\n",
    "avg_reading_score = spending_category_df[\"reading_score\"].mean()\n",
    "\n",
    "# Calculate the passing percentages for each school\n",
    "percent_passing_math = spending_category_df[\"math_pass_flag\"].sum() / total_students_per_category\n",
    "percent_passing_reading = spending_category_df[\"reading_pass_flag\"].sum() / total_students_per_category\n",
    "percent_passing_overall = spending_category_df[\"pass_overall_flag\"].sum() / total_students_per_category\n",
    "\n",
    "# Convert the budget per student series into a data frame\n",
    "spending_category_df = pd.DataFrame({\"Average Math Score\" : avg_math_score,\n",
    "                                     \"Average Reading Score\" : avg_reading_score,\n",
    "                                     \"% Passing Math\" : percent_passing_math,\n",
    "                                     \"% Passing Reading\" : percent_passing_reading,\n",
    "                                     \"% Overall Passing\" : percent_passing_overall})\n",
    "\n",
    "spending_category_df.sort_values(\"Spending Category\", inplace = True, ascending = False)"
   ]
  },
  {
   "cell_type": "code",
   "execution_count": 94,
   "metadata": {},
   "outputs": [
    {
     "data": {
      "text/html": [
       "<style  type=\"text/css\" >\n",
       "</style><table id=\"T_880d5e82_f56b_11ea_97e8_e86f381bf636\" ><thead>    <tr>        <th class=\"blank level0\" ></th>        <th class=\"col_heading level0 col0\" >Average Math Score</th>        <th class=\"col_heading level0 col1\" >Average Reading Score</th>        <th class=\"col_heading level0 col2\" >% Passing Math</th>        <th class=\"col_heading level0 col3\" >% Passing Reading</th>        <th class=\"col_heading level0 col4\" >% Overall Passing</th>    </tr>    <tr>        <th class=\"index_name level0\" >Spending Category</th>        <th class=\"blank\" ></th>        <th class=\"blank\" ></th>        <th class=\"blank\" ></th>        <th class=\"blank\" ></th>        <th class=\"blank\" ></th>    </tr></thead><tbody>\n",
       "                <tr>\n",
       "                        <th id=\"T_880d5e82_f56b_11ea_97e8_e86f381bf636level0_row0\" class=\"row_heading level0 row0\" ><$584</th>\n",
       "                        <td id=\"T_880d5e82_f56b_11ea_97e8_e86f381bf636row0_col0\" class=\"data row0 col0\" >83.36%</td>\n",
       "                        <td id=\"T_880d5e82_f56b_11ea_97e8_e86f381bf636row0_col1\" class=\"data row0 col1\" >83.96%</td>\n",
       "                        <td id=\"T_880d5e82_f56b_11ea_97e8_e86f381bf636row0_col2\" class=\"data row0 col2\" >93.70%</td>\n",
       "                        <td id=\"T_880d5e82_f56b_11ea_97e8_e86f381bf636row0_col3\" class=\"data row0 col3\" >96.69%</td>\n",
       "                        <td id=\"T_880d5e82_f56b_11ea_97e8_e86f381bf636row0_col4\" class=\"data row0 col4\" >90.64%</td>\n",
       "            </tr>\n",
       "            <tr>\n",
       "                        <th id=\"T_880d5e82_f56b_11ea_97e8_e86f381bf636level0_row1\" class=\"row_heading level0 row1\" >$585-629</th>\n",
       "                        <td id=\"T_880d5e82_f56b_11ea_97e8_e86f381bf636row1_col0\" class=\"data row1 col0\" >79.98%</td>\n",
       "                        <td id=\"T_880d5e82_f56b_11ea_97e8_e86f381bf636row1_col1\" class=\"data row1 col1\" >82.31%</td>\n",
       "                        <td id=\"T_880d5e82_f56b_11ea_97e8_e86f381bf636row1_col2\" class=\"data row1 col2\" >79.11%</td>\n",
       "                        <td id=\"T_880d5e82_f56b_11ea_97e8_e86f381bf636row1_col3\" class=\"data row1 col3\" >88.51%</td>\n",
       "                        <td id=\"T_880d5e82_f56b_11ea_97e8_e86f381bf636row1_col4\" class=\"data row1 col4\" >70.94%</td>\n",
       "            </tr>\n",
       "            <tr>\n",
       "                        <th id=\"T_880d5e82_f56b_11ea_97e8_e86f381bf636level0_row2\" class=\"row_heading level0 row2\" >$630-644</th>\n",
       "                        <td id=\"T_880d5e82_f56b_11ea_97e8_e86f381bf636row2_col0\" class=\"data row2 col0\" >77.82%</td>\n",
       "                        <td id=\"T_880d5e82_f56b_11ea_97e8_e86f381bf636row2_col1\" class=\"data row2 col1\" >81.30%</td>\n",
       "                        <td id=\"T_880d5e82_f56b_11ea_97e8_e86f381bf636row2_col2\" class=\"data row2 col2\" >70.62%</td>\n",
       "                        <td id=\"T_880d5e82_f56b_11ea_97e8_e86f381bf636row2_col3\" class=\"data row2 col3\" >82.60%</td>\n",
       "                        <td id=\"T_880d5e82_f56b_11ea_97e8_e86f381bf636row2_col4\" class=\"data row2 col4\" >58.84%</td>\n",
       "            </tr>\n",
       "            <tr>\n",
       "                        <th id=\"T_880d5e82_f56b_11ea_97e8_e86f381bf636level0_row3\" class=\"row_heading level0 row3\" >$645-675</th>\n",
       "                        <td id=\"T_880d5e82_f56b_11ea_97e8_e86f381bf636row3_col0\" class=\"data row3 col0\" >77.05%</td>\n",
       "                        <td id=\"T_880d5e82_f56b_11ea_97e8_e86f381bf636row3_col1\" class=\"data row3 col1\" >81.01%</td>\n",
       "                        <td id=\"T_880d5e82_f56b_11ea_97e8_e86f381bf636row3_col2\" class=\"data row3 col2\" >66.23%</td>\n",
       "                        <td id=\"T_880d5e82_f56b_11ea_97e8_e86f381bf636row3_col3\" class=\"data row3 col3\" >81.11%</td>\n",
       "                        <td id=\"T_880d5e82_f56b_11ea_97e8_e86f381bf636row3_col4\" class=\"data row3 col4\" >53.53%</td>\n",
       "            </tr>\n",
       "    </tbody></table>"
      ],
      "text/plain": [
       "<pandas.io.formats.style.Styler at 0x2481c71e088>"
      ]
     },
     "execution_count": 94,
     "metadata": {},
     "output_type": "execute_result"
    }
   ],
   "source": [
    "# Apply % formatting and update dataframe\n",
    "spending_category_df[['Average Math Score', 'Average Reading Score']] = spending_category_df[['Average Math Score', 'Average Reading Score']] / 100 \n",
    "\n",
    "# Change the order of the rows to show the spending category in order\n",
    "spending_category_df = spending_category_df.reindex([\"<$584\", \"$585-629\", \"$630-644\", \"$645-675\"], axis = \"rows\")\n",
    "spending_category_df\n",
    "\n",
    "#Apply formatting\n",
    "spending_category_df.style.format('{:.2%}')"
   ]
  },
  {
   "cell_type": "markdown",
   "metadata": {},
   "source": [
    "## Scores by School Size"
   ]
  },
  {
   "cell_type": "code",
   "execution_count": 95,
   "metadata": {},
   "outputs": [],
   "source": [
    "# Define a function that will create a school size category based on student population\n",
    "def school_size(num1):\n",
    "    if num1 >= 2000:\n",
    "        size_group = \"Large (2000-5000)\"\n",
    "    elif num1 >= 1000:\n",
    "        size_group = \"Medium (1000-2000)\"\n",
    "    else:\n",
    "        size_group = \"Small (<1000)\"    \n",
    "        \n",
    "    return size_group"
   ]
  },
  {
   "cell_type": "code",
   "execution_count": 96,
   "metadata": {},
   "outputs": [],
   "source": [
    "# Use the existing df and give it a new name with the new columns\n",
    "school_size_df = flagged_school_df"
   ]
  },
  {
   "cell_type": "code",
   "execution_count": 97,
   "metadata": {},
   "outputs": [],
   "source": [
    "# Add 2 new columns to the dataframe and populuate the values\n",
    "school_size_df[\"Spending Ranges (Per Student)\"] = school_size_df[\"size\"].apply(school_size)"
   ]
  },
  {
   "cell_type": "code",
   "execution_count": 98,
   "metadata": {},
   "outputs": [],
   "source": [
    "# Group the dataframe by the new school size category created above\n",
    "school_size_df = school_size_df.groupby(\"Spending Ranges (Per Student)\")"
   ]
  },
  {
   "cell_type": "code",
   "execution_count": 99,
   "metadata": {},
   "outputs": [],
   "source": [
    "# Calculate total students per category\n",
    "total_students_per_category = school_size_df[\"Spending Ranges (Per Student)\"].count()\n",
    "\n",
    "# Calculate the average math score\n",
    "avg_math_score = school_size_df[\"math_score\"].mean()\n",
    "\n",
    "# Calculate the average reading score\n",
    "avg_reading_score = school_size_df[\"reading_score\"].mean()\n",
    "\n",
    "# Calculate the passing percentages for each school\n",
    "percent_passing_math = (school_size_df[\"math_pass_flag\"].sum() / total_students_per_category) * 100\n",
    "percent_passing_reading = (school_size_df[\"reading_pass_flag\"].sum() / total_students_per_category) * 100\n",
    "percent_passing_overall = (school_size_df[\"pass_overall_flag\"].sum() / total_students_per_category) * 100\n",
    "\n",
    "# Convert the budget per student series into a data frame\n",
    "school_size_df = pd.DataFrame({\"Average Math Score\" : avg_math_score,\n",
    "                                     \"Average Reading Score\" : avg_reading_score,\n",
    "                                     \"% Passing Math\" : percent_passing_math,\n",
    "                                     \"% Passing Reading\" : percent_passing_reading,\n",
    "                                     \"% Overall Passing\" : percent_passing_overall})\n",
    "\n",
    "school_size_df.sort_values(\"Spending Ranges (Per Student)\", inplace = True, ascending = False)"
   ]
  },
  {
   "cell_type": "code",
   "execution_count": 100,
   "metadata": {
    "scrolled": true
   },
   "outputs": [
    {
     "data": {
      "text/html": [
       "<style  type=\"text/css\" >\n",
       "</style><table id=\"T_8814d546_f56b_11ea_a06d_e86f381bf636\" ><thead>    <tr>        <th class=\"blank level0\" ></th>        <th class=\"col_heading level0 col0\" >Average Math Score</th>        <th class=\"col_heading level0 col1\" >Average Reading Score</th>        <th class=\"col_heading level0 col2\" >% Passing Math</th>        <th class=\"col_heading level0 col3\" >% Passing Reading</th>        <th class=\"col_heading level0 col4\" >% Overall Passing</th>    </tr>    <tr>        <th class=\"index_name level0\" >Spending Ranges (Per Student)</th>        <th class=\"blank\" ></th>        <th class=\"blank\" ></th>        <th class=\"blank\" ></th>        <th class=\"blank\" ></th>        <th class=\"blank\" ></th>    </tr></thead><tbody>\n",
       "                <tr>\n",
       "                        <th id=\"T_8814d546_f56b_11ea_a06d_e86f381bf636level0_row0\" class=\"row_heading level0 row0\" >Small (<1000)</th>\n",
       "                        <td id=\"T_8814d546_f56b_11ea_a06d_e86f381bf636row0_col0\" class=\"data row0 col0\" >83.83%</td>\n",
       "                        <td id=\"T_8814d546_f56b_11ea_a06d_e86f381bf636row0_col1\" class=\"data row0 col1\" >83.97%</td>\n",
       "                        <td id=\"T_8814d546_f56b_11ea_a06d_e86f381bf636row0_col2\" class=\"data row0 col2\" >93.95%</td>\n",
       "                        <td id=\"T_8814d546_f56b_11ea_a06d_e86f381bf636row0_col3\" class=\"data row0 col3\" >96.04%</td>\n",
       "                        <td id=\"T_8814d546_f56b_11ea_a06d_e86f381bf636row0_col4\" class=\"data row0 col4\" >90.14%</td>\n",
       "            </tr>\n",
       "            <tr>\n",
       "                        <th id=\"T_8814d546_f56b_11ea_a06d_e86f381bf636level0_row1\" class=\"row_heading level0 row1\" >Medium (1000-2000)</th>\n",
       "                        <td id=\"T_8814d546_f56b_11ea_a06d_e86f381bf636row1_col0\" class=\"data row1 col0\" >83.37%</td>\n",
       "                        <td id=\"T_8814d546_f56b_11ea_a06d_e86f381bf636row1_col1\" class=\"data row1 col1\" >83.87%</td>\n",
       "                        <td id=\"T_8814d546_f56b_11ea_a06d_e86f381bf636row1_col2\" class=\"data row1 col2\" >93.62%</td>\n",
       "                        <td id=\"T_8814d546_f56b_11ea_a06d_e86f381bf636row1_col3\" class=\"data row1 col3\" >96.77%</td>\n",
       "                        <td id=\"T_8814d546_f56b_11ea_a06d_e86f381bf636row1_col4\" class=\"data row1 col4\" >90.62%</td>\n",
       "            </tr>\n",
       "            <tr>\n",
       "                        <th id=\"T_8814d546_f56b_11ea_a06d_e86f381bf636level0_row2\" class=\"row_heading level0 row2\" >Large (2000-5000)</th>\n",
       "                        <td id=\"T_8814d546_f56b_11ea_a06d_e86f381bf636row2_col0\" class=\"data row2 col0\" >77.48%</td>\n",
       "                        <td id=\"T_8814d546_f56b_11ea_a06d_e86f381bf636row2_col1\" class=\"data row2 col1\" >81.20%</td>\n",
       "                        <td id=\"T_8814d546_f56b_11ea_a06d_e86f381bf636row2_col2\" class=\"data row2 col2\" >68.65%</td>\n",
       "                        <td id=\"T_8814d546_f56b_11ea_a06d_e86f381bf636row2_col3\" class=\"data row2 col3\" >82.13%</td>\n",
       "                        <td id=\"T_8814d546_f56b_11ea_a06d_e86f381bf636row2_col4\" class=\"data row2 col4\" >56.57%</td>\n",
       "            </tr>\n",
       "    </tbody></table>"
      ],
      "text/plain": [
       "<pandas.io.formats.style.Styler at 0x2481ffb5ec8>"
      ]
     },
     "execution_count": 100,
     "metadata": {},
     "output_type": "execute_result"
    }
   ],
   "source": [
    "school_size_df = school_size_df / 100\n",
    "school_size_df = school_size_df.style.format('{:.2%}')\n",
    "school_size_df"
   ]
  },
  {
   "cell_type": "markdown",
   "metadata": {},
   "source": [
    "## Scores by School Type"
   ]
  },
  {
   "cell_type": "code",
   "execution_count": 101,
   "metadata": {},
   "outputs": [],
   "source": [
    "# Group the dataframe by the Charter and District categories\n",
    "school_type_df = flagged_school_df.groupby(\"type\")"
   ]
  },
  {
   "cell_type": "code",
   "execution_count": 102,
   "metadata": {},
   "outputs": [],
   "source": [
    "# Calculate total students per category\n",
    "total_students_per_category = school_type_df[\"type\"].count()\n",
    "\n",
    "# Calculate the average math score\n",
    "avg_math_score = school_type_df[\"math_score\"].mean()\n",
    "\n",
    "# Calculate the average reading score\n",
    "avg_reading_score = school_type_df[\"reading_score\"].mean()\n",
    "\n",
    "# Calculate the passing percentages for each school\n",
    "percent_passing_math = (school_type_df[\"math_pass_flag\"].sum() / total_students_per_category) * 100\n",
    "percent_passing_reading = (school_type_df[\"reading_pass_flag\"].sum() / total_students_per_category) * 100\n",
    "percent_passing_overall = (school_type_df[\"pass_overall_flag\"].sum() / total_students_per_category) * 100\n",
    "\n",
    "# Convert the budget per student series into a data frame\n",
    "school_type_df = pd.DataFrame({\"Average Math Score\" : avg_math_score,\n",
    "                                     \"Average Reading Score\" : avg_reading_score,\n",
    "                                     \"% Passing Math\" : percent_passing_math,\n",
    "                                     \"% Passing Reading\" : percent_passing_reading,\n",
    "                                     \"% Overall Passing\" : percent_passing_overall})\n",
    "\n",
    "school_type_df.sort_values(\"type\", inplace = True, ascending = True)"
   ]
  },
  {
   "cell_type": "code",
   "execution_count": 103,
   "metadata": {
    "scrolled": true
   },
   "outputs": [
    {
     "data": {
      "text/html": [
       "<style  type=\"text/css\" >\n",
       "</style><table id=\"T_88191652_f56b_11ea_af6a_e86f381bf636\" ><thead>    <tr>        <th class=\"blank level0\" ></th>        <th class=\"col_heading level0 col0\" >Average Math Score</th>        <th class=\"col_heading level0 col1\" >Average Reading Score</th>        <th class=\"col_heading level0 col2\" >% Passing Math</th>        <th class=\"col_heading level0 col3\" >% Passing Reading</th>        <th class=\"col_heading level0 col4\" >% Overall Passing</th>    </tr>    <tr>        <th class=\"index_name level0\" >type</th>        <th class=\"blank\" ></th>        <th class=\"blank\" ></th>        <th class=\"blank\" ></th>        <th class=\"blank\" ></th>        <th class=\"blank\" ></th>    </tr></thead><tbody>\n",
       "                <tr>\n",
       "                        <th id=\"T_88191652_f56b_11ea_af6a_e86f381bf636level0_row0\" class=\"row_heading level0 row0\" >Charter</th>\n",
       "                        <td id=\"T_88191652_f56b_11ea_af6a_e86f381bf636row0_col0\" class=\"data row0 col0\" >83.41%</td>\n",
       "                        <td id=\"T_88191652_f56b_11ea_af6a_e86f381bf636row0_col1\" class=\"data row0 col1\" >83.90%</td>\n",
       "                        <td id=\"T_88191652_f56b_11ea_af6a_e86f381bf636row0_col2\" class=\"data row0 col2\" >93.70%</td>\n",
       "                        <td id=\"T_88191652_f56b_11ea_af6a_e86f381bf636row0_col3\" class=\"data row0 col3\" >96.65%</td>\n",
       "                        <td id=\"T_88191652_f56b_11ea_af6a_e86f381bf636row0_col4\" class=\"data row0 col4\" >90.56%</td>\n",
       "            </tr>\n",
       "            <tr>\n",
       "                        <th id=\"T_88191652_f56b_11ea_af6a_e86f381bf636level0_row1\" class=\"row_heading level0 row1\" >District</th>\n",
       "                        <td id=\"T_88191652_f56b_11ea_af6a_e86f381bf636row1_col0\" class=\"data row1 col0\" >76.99%</td>\n",
       "                        <td id=\"T_88191652_f56b_11ea_af6a_e86f381bf636row1_col1\" class=\"data row1 col1\" >80.96%</td>\n",
       "                        <td id=\"T_88191652_f56b_11ea_af6a_e86f381bf636row1_col2\" class=\"data row1 col2\" >66.52%</td>\n",
       "                        <td id=\"T_88191652_f56b_11ea_af6a_e86f381bf636row1_col3\" class=\"data row1 col3\" >80.91%</td>\n",
       "                        <td id=\"T_88191652_f56b_11ea_af6a_e86f381bf636row1_col4\" class=\"data row1 col4\" >53.70%</td>\n",
       "            </tr>\n",
       "    </tbody></table>"
      ],
      "text/plain": [
       "<pandas.io.formats.style.Styler at 0x2481ffa3488>"
      ]
     },
     "execution_count": 103,
     "metadata": {},
     "output_type": "execute_result"
    }
   ],
   "source": [
    "school_type_df = school_type_df / 100\n",
    "school_type_df = school_type_df.style.format(\"{:.2%}\")\n",
    "school_type_df"
   ]
  },
  {
   "cell_type": "code",
   "execution_count": null,
   "metadata": {},
   "outputs": [],
   "source": []
  },
  {
   "cell_type": "code",
   "execution_count": null,
   "metadata": {},
   "outputs": [],
   "source": []
  }
 ],
 "metadata": {
  "kernelspec": {
   "display_name": "Python 3",
   "language": "python",
   "name": "python3"
  },
  "language_info": {
   "codemirror_mode": {
    "name": "ipython",
    "version": 3
   },
   "file_extension": ".py",
   "mimetype": "text/x-python",
   "name": "python",
   "nbconvert_exporter": "python",
   "pygments_lexer": "ipython3",
   "version": "3.7.6"
  }
 },
 "nbformat": 4,
 "nbformat_minor": 4
}
